{
 "cells": [
  {
   "cell_type": "code",
   "execution_count": 41,
   "metadata": {
    "ExecuteTime": {
     "end_time": "2021-03-13T23:19:03.451937Z",
     "start_time": "2021-03-13T23:19:03.448402Z"
    }
   },
   "outputs": [],
   "source": [
    "import pyforest"
   ]
  },
  {
   "cell_type": "code",
   "execution_count": 43,
   "metadata": {
    "ExecuteTime": {
     "end_time": "2021-03-13T23:20:07.638299Z",
     "start_time": "2021-03-13T23:20:07.377776Z"
    }
   },
   "outputs": [
    {
     "ename": "ContextualVersionConflict",
     "evalue": "(pyarrow 2.0.0 (/opt/anaconda3/envs/learn-env/lib/python3.6/site-packages), Requirement.parse('pyarrow>=3.0'), {'vaex-core'})",
     "output_type": "error",
     "traceback": [
      "\u001b[0;31m---------------------------------------------------------------------------\u001b[0m",
      "\u001b[0;31mContextualVersionConflict\u001b[0m                 Traceback (most recent call last)",
      "\u001b[0;32m<ipython-input-43-710c8f6b7287>\u001b[0m in \u001b[0;36m<module>\u001b[0;34m()\u001b[0m\n\u001b[0;32m----> 1\u001b[0;31m \u001b[0;32mimport\u001b[0m \u001b[0mvaex\u001b[0m\u001b[0;34m\u001b[0m\u001b[0;34m\u001b[0m\u001b[0m\n\u001b[0m",
      "\u001b[0;32m/opt/anaconda3/envs/learn-env/lib/python3.6/site-packages/vaex/__init__.py\u001b[0m in \u001b[0;36m<module>\u001b[0;34m()\u001b[0m\n\u001b[1;32m     66\u001b[0m     \u001b[0;32mraise\u001b[0m\u001b[0;34m\u001b[0m\u001b[0;34m\u001b[0m\u001b[0m\n\u001b[1;32m     67\u001b[0m \u001b[0;34m\u001b[0m\u001b[0m\n\u001b[0;32m---> 68\u001b[0;31m \u001b[0m__version__\u001b[0m \u001b[0;34m=\u001b[0m \u001b[0mversion\u001b[0m\u001b[0;34m.\u001b[0m\u001b[0mget_versions\u001b[0m\u001b[0;34m(\u001b[0m\u001b[0;34m)\u001b[0m\u001b[0;34m\u001b[0m\u001b[0;34m\u001b[0m\u001b[0m\n\u001b[0m\u001b[1;32m     69\u001b[0m \u001b[0;34m\u001b[0m\u001b[0m\n\u001b[1;32m     70\u001b[0m \u001b[0;34m\u001b[0m\u001b[0m\n",
      "\u001b[0;32m/opt/anaconda3/envs/learn-env/lib/python3.6/site-packages/vaex/version.py\u001b[0m in \u001b[0;36mget_versions\u001b[0;34m()\u001b[0m\n\u001b[1;32m     13\u001b[0m         \u001b[0;32mexcept\u001b[0m \u001b[0mpkg_resources\u001b[0m\u001b[0;34m.\u001b[0m\u001b[0mDistributionNotFound\u001b[0m\u001b[0;34m:\u001b[0m\u001b[0;34m\u001b[0m\u001b[0;34m\u001b[0m\u001b[0m\n\u001b[1;32m     14\u001b[0m             \u001b[0;32mreturn\u001b[0m \u001b[0;32mFalse\u001b[0m\u001b[0;34m\u001b[0m\u001b[0;34m\u001b[0m\u001b[0m\n\u001b[0;32m---> 15\u001b[0;31m     \u001b[0;32mreturn\u001b[0m \u001b[0;34m{\u001b[0m\u001b[0mp\u001b[0m\u001b[0;34m:\u001b[0m \u001b[0mpkg_resources\u001b[0m\u001b[0;34m.\u001b[0m\u001b[0mget_distribution\u001b[0m\u001b[0;34m(\u001b[0m\u001b[0mp\u001b[0m\u001b[0;34m)\u001b[0m\u001b[0;34m.\u001b[0m\u001b[0mversion\u001b[0m \u001b[0;32mfor\u001b[0m \u001b[0mp\u001b[0m \u001b[0;32min\u001b[0m \u001b[0mpackages\u001b[0m \u001b[0;32mif\u001b[0m \u001b[0mis_installed\u001b[0m\u001b[0;34m(\u001b[0m\u001b[0mp\u001b[0m\u001b[0;34m)\u001b[0m\u001b[0;34m}\u001b[0m\u001b[0;34m\u001b[0m\u001b[0;34m\u001b[0m\u001b[0m\n\u001b[0m",
      "\u001b[0;32m/opt/anaconda3/envs/learn-env/lib/python3.6/site-packages/vaex/version.py\u001b[0m in \u001b[0;36m<dictcomp>\u001b[0;34m(.0)\u001b[0m\n\u001b[1;32m     13\u001b[0m         \u001b[0;32mexcept\u001b[0m \u001b[0mpkg_resources\u001b[0m\u001b[0;34m.\u001b[0m\u001b[0mDistributionNotFound\u001b[0m\u001b[0;34m:\u001b[0m\u001b[0;34m\u001b[0m\u001b[0;34m\u001b[0m\u001b[0m\n\u001b[1;32m     14\u001b[0m             \u001b[0;32mreturn\u001b[0m \u001b[0;32mFalse\u001b[0m\u001b[0;34m\u001b[0m\u001b[0;34m\u001b[0m\u001b[0m\n\u001b[0;32m---> 15\u001b[0;31m     \u001b[0;32mreturn\u001b[0m \u001b[0;34m{\u001b[0m\u001b[0mp\u001b[0m\u001b[0;34m:\u001b[0m \u001b[0mpkg_resources\u001b[0m\u001b[0;34m.\u001b[0m\u001b[0mget_distribution\u001b[0m\u001b[0;34m(\u001b[0m\u001b[0mp\u001b[0m\u001b[0;34m)\u001b[0m\u001b[0;34m.\u001b[0m\u001b[0mversion\u001b[0m \u001b[0;32mfor\u001b[0m \u001b[0mp\u001b[0m \u001b[0;32min\u001b[0m \u001b[0mpackages\u001b[0m \u001b[0;32mif\u001b[0m \u001b[0mis_installed\u001b[0m\u001b[0;34m(\u001b[0m\u001b[0mp\u001b[0m\u001b[0;34m)\u001b[0m\u001b[0;34m}\u001b[0m\u001b[0;34m\u001b[0m\u001b[0;34m\u001b[0m\u001b[0m\n\u001b[0m",
      "\u001b[0;32m/opt/anaconda3/envs/learn-env/lib/python3.6/site-packages/vaex/version.py\u001b[0m in \u001b[0;36mis_installed\u001b[0;34m(p)\u001b[0m\n\u001b[1;32m      9\u001b[0m     \u001b[0;32mdef\u001b[0m \u001b[0mis_installed\u001b[0m\u001b[0;34m(\u001b[0m\u001b[0mp\u001b[0m\u001b[0;34m)\u001b[0m\u001b[0;34m:\u001b[0m\u001b[0;34m\u001b[0m\u001b[0;34m\u001b[0m\u001b[0m\n\u001b[1;32m     10\u001b[0m         \u001b[0;32mtry\u001b[0m\u001b[0;34m:\u001b[0m\u001b[0;34m\u001b[0m\u001b[0;34m\u001b[0m\u001b[0m\n\u001b[0;32m---> 11\u001b[0;31m             \u001b[0mpkg_resources\u001b[0m\u001b[0;34m.\u001b[0m\u001b[0mget_distribution\u001b[0m\u001b[0;34m(\u001b[0m\u001b[0mp\u001b[0m\u001b[0;34m)\u001b[0m\u001b[0;34m\u001b[0m\u001b[0;34m\u001b[0m\u001b[0m\n\u001b[0m\u001b[1;32m     12\u001b[0m             \u001b[0;32mreturn\u001b[0m \u001b[0;32mTrue\u001b[0m\u001b[0;34m\u001b[0m\u001b[0;34m\u001b[0m\u001b[0m\n\u001b[1;32m     13\u001b[0m         \u001b[0;32mexcept\u001b[0m \u001b[0mpkg_resources\u001b[0m\u001b[0;34m.\u001b[0m\u001b[0mDistributionNotFound\u001b[0m\u001b[0;34m:\u001b[0m\u001b[0;34m\u001b[0m\u001b[0;34m\u001b[0m\u001b[0m\n",
      "\u001b[0;32m/opt/anaconda3/envs/learn-env/lib/python3.6/site-packages/pkg_resources/__init__.py\u001b[0m in \u001b[0;36mget_distribution\u001b[0;34m(dist)\u001b[0m\n\u001b[1;32m    464\u001b[0m         \u001b[0mdist\u001b[0m \u001b[0;34m=\u001b[0m \u001b[0mRequirement\u001b[0m\u001b[0;34m.\u001b[0m\u001b[0mparse\u001b[0m\u001b[0;34m(\u001b[0m\u001b[0mdist\u001b[0m\u001b[0;34m)\u001b[0m\u001b[0;34m\u001b[0m\u001b[0;34m\u001b[0m\u001b[0m\n\u001b[1;32m    465\u001b[0m     \u001b[0;32mif\u001b[0m \u001b[0misinstance\u001b[0m\u001b[0;34m(\u001b[0m\u001b[0mdist\u001b[0m\u001b[0;34m,\u001b[0m \u001b[0mRequirement\u001b[0m\u001b[0;34m)\u001b[0m\u001b[0;34m:\u001b[0m\u001b[0;34m\u001b[0m\u001b[0;34m\u001b[0m\u001b[0m\n\u001b[0;32m--> 466\u001b[0;31m         \u001b[0mdist\u001b[0m \u001b[0;34m=\u001b[0m \u001b[0mget_provider\u001b[0m\u001b[0;34m(\u001b[0m\u001b[0mdist\u001b[0m\u001b[0;34m)\u001b[0m\u001b[0;34m\u001b[0m\u001b[0;34m\u001b[0m\u001b[0m\n\u001b[0m\u001b[1;32m    467\u001b[0m     \u001b[0;32mif\u001b[0m \u001b[0;32mnot\u001b[0m \u001b[0misinstance\u001b[0m\u001b[0;34m(\u001b[0m\u001b[0mdist\u001b[0m\u001b[0;34m,\u001b[0m \u001b[0mDistribution\u001b[0m\u001b[0;34m)\u001b[0m\u001b[0;34m:\u001b[0m\u001b[0;34m\u001b[0m\u001b[0;34m\u001b[0m\u001b[0m\n\u001b[1;32m    468\u001b[0m         \u001b[0;32mraise\u001b[0m \u001b[0mTypeError\u001b[0m\u001b[0;34m(\u001b[0m\u001b[0;34m\"Expected string, Requirement, or Distribution\"\u001b[0m\u001b[0;34m,\u001b[0m \u001b[0mdist\u001b[0m\u001b[0;34m)\u001b[0m\u001b[0;34m\u001b[0m\u001b[0;34m\u001b[0m\u001b[0m\n",
      "\u001b[0;32m/opt/anaconda3/envs/learn-env/lib/python3.6/site-packages/pkg_resources/__init__.py\u001b[0m in \u001b[0;36mget_provider\u001b[0;34m(moduleOrReq)\u001b[0m\n\u001b[1;32m    340\u001b[0m     \u001b[0;34m\"\"\"Return an IResourceProvider for the named module or requirement\"\"\"\u001b[0m\u001b[0;34m\u001b[0m\u001b[0;34m\u001b[0m\u001b[0m\n\u001b[1;32m    341\u001b[0m     \u001b[0;32mif\u001b[0m \u001b[0misinstance\u001b[0m\u001b[0;34m(\u001b[0m\u001b[0mmoduleOrReq\u001b[0m\u001b[0;34m,\u001b[0m \u001b[0mRequirement\u001b[0m\u001b[0;34m)\u001b[0m\u001b[0;34m:\u001b[0m\u001b[0;34m\u001b[0m\u001b[0;34m\u001b[0m\u001b[0m\n\u001b[0;32m--> 342\u001b[0;31m         \u001b[0;32mreturn\u001b[0m \u001b[0mworking_set\u001b[0m\u001b[0;34m.\u001b[0m\u001b[0mfind\u001b[0m\u001b[0;34m(\u001b[0m\u001b[0mmoduleOrReq\u001b[0m\u001b[0;34m)\u001b[0m \u001b[0;32mor\u001b[0m \u001b[0mrequire\u001b[0m\u001b[0;34m(\u001b[0m\u001b[0mstr\u001b[0m\u001b[0;34m(\u001b[0m\u001b[0mmoduleOrReq\u001b[0m\u001b[0;34m)\u001b[0m\u001b[0;34m)\u001b[0m\u001b[0;34m[\u001b[0m\u001b[0;36m0\u001b[0m\u001b[0;34m]\u001b[0m\u001b[0;34m\u001b[0m\u001b[0;34m\u001b[0m\u001b[0m\n\u001b[0m\u001b[1;32m    343\u001b[0m     \u001b[0;32mtry\u001b[0m\u001b[0;34m:\u001b[0m\u001b[0;34m\u001b[0m\u001b[0;34m\u001b[0m\u001b[0m\n\u001b[1;32m    344\u001b[0m         \u001b[0mmodule\u001b[0m \u001b[0;34m=\u001b[0m \u001b[0msys\u001b[0m\u001b[0;34m.\u001b[0m\u001b[0mmodules\u001b[0m\u001b[0;34m[\u001b[0m\u001b[0mmoduleOrReq\u001b[0m\u001b[0;34m]\u001b[0m\u001b[0;34m\u001b[0m\u001b[0;34m\u001b[0m\u001b[0m\n",
      "\u001b[0;32m/opt/anaconda3/envs/learn-env/lib/python3.6/site-packages/pkg_resources/__init__.py\u001b[0m in \u001b[0;36mrequire\u001b[0;34m(self, *requirements)\u001b[0m\n\u001b[1;32m    884\u001b[0m         \u001b[0mincluded\u001b[0m\u001b[0;34m,\u001b[0m \u001b[0meven\u001b[0m \u001b[0;32mif\u001b[0m \u001b[0mthey\u001b[0m \u001b[0mwere\u001b[0m \u001b[0malready\u001b[0m \u001b[0mactivated\u001b[0m \u001b[0;32min\u001b[0m \u001b[0mthis\u001b[0m \u001b[0mworking\u001b[0m \u001b[0mset\u001b[0m\u001b[0;34m.\u001b[0m\u001b[0;34m\u001b[0m\u001b[0;34m\u001b[0m\u001b[0m\n\u001b[1;32m    885\u001b[0m         \"\"\"\n\u001b[0;32m--> 886\u001b[0;31m         \u001b[0mneeded\u001b[0m \u001b[0;34m=\u001b[0m \u001b[0mself\u001b[0m\u001b[0;34m.\u001b[0m\u001b[0mresolve\u001b[0m\u001b[0;34m(\u001b[0m\u001b[0mparse_requirements\u001b[0m\u001b[0;34m(\u001b[0m\u001b[0mrequirements\u001b[0m\u001b[0;34m)\u001b[0m\u001b[0;34m)\u001b[0m\u001b[0;34m\u001b[0m\u001b[0;34m\u001b[0m\u001b[0m\n\u001b[0m\u001b[1;32m    887\u001b[0m \u001b[0;34m\u001b[0m\u001b[0m\n\u001b[1;32m    888\u001b[0m         \u001b[0;32mfor\u001b[0m \u001b[0mdist\u001b[0m \u001b[0;32min\u001b[0m \u001b[0mneeded\u001b[0m\u001b[0;34m:\u001b[0m\u001b[0;34m\u001b[0m\u001b[0;34m\u001b[0m\u001b[0m\n",
      "\u001b[0;32m/opt/anaconda3/envs/learn-env/lib/python3.6/site-packages/pkg_resources/__init__.py\u001b[0m in \u001b[0;36mresolve\u001b[0;34m(self, requirements, env, installer, replace_conflicting, extras)\u001b[0m\n\u001b[1;32m    775\u001b[0m                 \u001b[0;31m# Oops, the \"best\" so far conflicts with a dependency\u001b[0m\u001b[0;34m\u001b[0m\u001b[0;34m\u001b[0m\u001b[0;34m\u001b[0m\u001b[0m\n\u001b[1;32m    776\u001b[0m                 \u001b[0mdependent_req\u001b[0m \u001b[0;34m=\u001b[0m \u001b[0mrequired_by\u001b[0m\u001b[0;34m[\u001b[0m\u001b[0mreq\u001b[0m\u001b[0;34m]\u001b[0m\u001b[0;34m\u001b[0m\u001b[0;34m\u001b[0m\u001b[0m\n\u001b[0;32m--> 777\u001b[0;31m                 \u001b[0;32mraise\u001b[0m \u001b[0mVersionConflict\u001b[0m\u001b[0;34m(\u001b[0m\u001b[0mdist\u001b[0m\u001b[0;34m,\u001b[0m \u001b[0mreq\u001b[0m\u001b[0;34m)\u001b[0m\u001b[0;34m.\u001b[0m\u001b[0mwith_context\u001b[0m\u001b[0;34m(\u001b[0m\u001b[0mdependent_req\u001b[0m\u001b[0;34m)\u001b[0m\u001b[0;34m\u001b[0m\u001b[0;34m\u001b[0m\u001b[0m\n\u001b[0m\u001b[1;32m    778\u001b[0m \u001b[0;34m\u001b[0m\u001b[0m\n\u001b[1;32m    779\u001b[0m             \u001b[0;31m# push the new requirements onto the stack\u001b[0m\u001b[0;34m\u001b[0m\u001b[0;34m\u001b[0m\u001b[0;34m\u001b[0m\u001b[0m\n",
      "\u001b[0;31mContextualVersionConflict\u001b[0m: (pyarrow 2.0.0 (/opt/anaconda3/envs/learn-env/lib/python3.6/site-packages), Requirement.parse('pyarrow>=3.0'), {'vaex-core'})"
     ]
    }
   ],
   "source": [
    "import vaex"
   ]
  },
  {
   "cell_type": "code",
   "execution_count": 38,
   "metadata": {
    "ExecuteTime": {
     "end_time": "2021-03-13T23:16:02.983883Z",
     "start_time": "2021-03-13T23:15:58.454739Z"
    },
    "scrolled": false
   },
   "outputs": [
    {
     "name": "stdout",
     "output_type": "stream",
     "text": [
      "Requirement already satisfied: vaex in /opt/anaconda3/envs/learn-env/lib/python3.6/site-packages (4.0.0)\n",
      "Requirement already satisfied: vaex-core<5,>=4.0.0 in /opt/anaconda3/envs/learn-env/lib/python3.6/site-packages (from vaex) (4.0.1)\n",
      "Requirement already satisfied: vaex-ml<0.12,>=0.11.0 in /opt/anaconda3/envs/learn-env/lib/python3.6/site-packages (from vaex) (0.11.0)\n",
      "Requirement already satisfied: vaex-viz<0.6,>=0.5.0 in /opt/anaconda3/envs/learn-env/lib/python3.6/site-packages (from vaex) (0.5.0)\n",
      "Requirement already satisfied: vaex-server<0.5,>=0.4.0 in /opt/anaconda3/envs/learn-env/lib/python3.6/site-packages (from vaex) (0.4.0)\n",
      "Requirement already satisfied: vaex-hdf5<0.8,>=0.7.0 in /opt/anaconda3/envs/learn-env/lib/python3.6/site-packages (from vaex) (0.7.0)\n",
      "Requirement already satisfied: vaex-jupyter<0.7,>=0.6.0 in /opt/anaconda3/envs/learn-env/lib/python3.6/site-packages (from vaex) (0.6.0)\n",
      "Requirement already satisfied: vaex-astro<0.9,>=0.8.0 in /opt/anaconda3/envs/learn-env/lib/python3.6/site-packages (from vaex) (0.8.0)\n",
      "Requirement already satisfied: astropy in /opt/anaconda3/envs/learn-env/lib/python3.6/site-packages (from vaex-astro<0.9,>=0.8.0->vaex) (4.1)\n",
      "Requirement already satisfied: frozendict in /opt/anaconda3/envs/learn-env/lib/python3.6/site-packages (from vaex-core<5,>=4.0.0->vaex) (1.2)\n",
      "Requirement already satisfied: tabulate>=0.8.3 in /opt/anaconda3/envs/learn-env/lib/python3.6/site-packages (from vaex-core<5,>=4.0.0->vaex) (0.8.7)\n",
      "Requirement already satisfied: pyyaml in /opt/anaconda3/envs/learn-env/lib/python3.6/site-packages (from vaex-core<5,>=4.0.0->vaex) (5.3.1)\n",
      "Requirement already satisfied: pandas in /opt/anaconda3/envs/learn-env/lib/python3.6/site-packages (from vaex-core<5,>=4.0.0->vaex) (0.25.3)\n",
      "Requirement already satisfied: numpy>=1.16 in /opt/anaconda3/envs/learn-env/lib/python3.6/site-packages (from vaex-core<5,>=4.0.0->vaex) (1.18.5)\n",
      "Requirement already satisfied: requests in /opt/anaconda3/envs/learn-env/lib/python3.6/site-packages (from vaex-core<5,>=4.0.0->vaex) (2.24.0)\n",
      "Requirement already satisfied: six in /opt/anaconda3/envs/learn-env/lib/python3.6/site-packages (from vaex-core<5,>=4.0.0->vaex) (1.15.0)\n",
      "Requirement already satisfied: cloudpickle in /opt/anaconda3/envs/learn-env/lib/python3.6/site-packages (from vaex-core<5,>=4.0.0->vaex) (1.6.0)\n",
      "Requirement already satisfied: dask[array] in /opt/anaconda3/envs/learn-env/lib/python3.6/site-packages (from vaex-core<5,>=4.0.0->vaex) (2020.12.0)\n",
      "Requirement already satisfied: pyarrow>=3.0 in /opt/anaconda3/envs/learn-env/lib/python3.6/site-packages (from vaex-core<5,>=4.0.0->vaex) (3.0.0)\n",
      "Requirement already satisfied: aplus in /opt/anaconda3/envs/learn-env/lib/python3.6/site-packages (from vaex-core<5,>=4.0.0->vaex) (0.11.0)\n",
      "Requirement already satisfied: future>=0.15.2 in /opt/anaconda3/envs/learn-env/lib/python3.6/site-packages (from vaex-core<5,>=4.0.0->vaex) (0.18.2)\n",
      "Requirement already satisfied: psutil>=1.2.1 in /opt/anaconda3/envs/learn-env/lib/python3.6/site-packages (from vaex-core<5,>=4.0.0->vaex) (5.8.0)\n",
      "Requirement already satisfied: progressbar2 in /opt/anaconda3/envs/learn-env/lib/python3.6/site-packages (from vaex-core<5,>=4.0.0->vaex) (3.53.1)\n",
      "Requirement already satisfied: nest-asyncio>=1.3.3 in /opt/anaconda3/envs/learn-env/lib/python3.6/site-packages (from vaex-core<5,>=4.0.0->vaex) (1.4.3)\n",
      "Requirement already satisfied: h5py>=2.9 in /opt/anaconda3/envs/learn-env/lib/python3.6/site-packages (from vaex-hdf5<0.8,>=0.7.0->vaex) (2.10.0)\n",
      "Requirement already satisfied: ipyleaflet in /opt/anaconda3/envs/learn-env/lib/python3.6/site-packages (from vaex-jupyter<0.7,>=0.6.0->vaex) (0.13.6)\n",
      "Requirement already satisfied: ipyvuetify<2,>=1.2.2 in /opt/anaconda3/envs/learn-env/lib/python3.6/site-packages (from vaex-jupyter<0.7,>=0.6.0->vaex) (1.6.2)\n",
      "Requirement already satisfied: ipyvolume>=0.4 in /opt/anaconda3/envs/learn-env/lib/python3.6/site-packages (from vaex-jupyter<0.7,>=0.6.0->vaex) (0.5.2)\n",
      "Requirement already satisfied: ipympl in /opt/anaconda3/envs/learn-env/lib/python3.6/site-packages (from vaex-jupyter<0.7,>=0.6.0->vaex) (0.6.3)\n",
      "Requirement already satisfied: xarray in /opt/anaconda3/envs/learn-env/lib/python3.6/site-packages (from vaex-jupyter<0.7,>=0.6.0->vaex) (0.16.2)\n",
      "Requirement already satisfied: bqplot>=0.10.1 in /opt/anaconda3/envs/learn-env/lib/python3.6/site-packages (from vaex-jupyter<0.7,>=0.6.0->vaex) (0.12.23)\n",
      "Requirement already satisfied: traittypes>=0.0.6 in /opt/anaconda3/envs/learn-env/lib/python3.6/site-packages (from bqplot>=0.10.1->vaex-jupyter<0.7,>=0.6.0->vaex) (0.2.1)\n",
      "Requirement already satisfied: traitlets>=4.3.0 in /opt/anaconda3/envs/learn-env/lib/python3.6/site-packages (from bqplot>=0.10.1->vaex-jupyter<0.7,>=0.6.0->vaex) (4.3.3)\n",
      "Requirement already satisfied: ipywidgets>=7.5.0 in /opt/anaconda3/envs/learn-env/lib/python3.6/site-packages (from bqplot>=0.10.1->vaex-jupyter<0.7,>=0.6.0->vaex) (7.6.3)\n",
      "Requirement already satisfied: pythreejs>=1.0.0 in /opt/anaconda3/envs/learn-env/lib/python3.6/site-packages (from ipyvolume>=0.4->vaex-jupyter<0.7,>=0.6.0->vaex) (2.3.0)\n",
      "Requirement already satisfied: ipywebrtc in /opt/anaconda3/envs/learn-env/lib/python3.6/site-packages (from ipyvolume>=0.4->vaex-jupyter<0.7,>=0.6.0->vaex) (0.5.0)\n",
      "Requirement already satisfied: Pillow in /opt/anaconda3/envs/learn-env/lib/python3.6/site-packages (from ipyvolume>=0.4->vaex-jupyter<0.7,>=0.6.0->vaex) (8.0.0)\n",
      "Requirement already satisfied: ipyvue<2,>=1.5 in /opt/anaconda3/envs/learn-env/lib/python3.6/site-packages (from ipyvuetify<2,>=1.2.2->vaex-jupyter<0.7,>=0.6.0->vaex) (1.5.0)\n",
      "Requirement already satisfied: ipykernel>=4.5.1 in /opt/anaconda3/envs/learn-env/lib/python3.6/site-packages (from ipywidgets>=7.5.0->bqplot>=0.10.1->vaex-jupyter<0.7,>=0.6.0->vaex) (5.3.4)\n",
      "Requirement already satisfied: nbformat>=4.2.0 in /opt/anaconda3/envs/learn-env/lib/python3.6/site-packages (from ipywidgets>=7.5.0->bqplot>=0.10.1->vaex-jupyter<0.7,>=0.6.0->vaex) (5.0.7)\n",
      "Requirement already satisfied: jupyterlab-widgets>=1.0.0 in /opt/anaconda3/envs/learn-env/lib/python3.6/site-packages (from ipywidgets>=7.5.0->bqplot>=0.10.1->vaex-jupyter<0.7,>=0.6.0->vaex) (1.0.0)\n",
      "Requirement already satisfied: widgetsnbextension~=3.5.0 in /opt/anaconda3/envs/learn-env/lib/python3.6/site-packages (from ipywidgets>=7.5.0->bqplot>=0.10.1->vaex-jupyter<0.7,>=0.6.0->vaex) (3.5.1)\n",
      "Requirement already satisfied: ipython>=4.0.0 in /opt/anaconda3/envs/learn-env/lib/python3.6/site-packages (from ipywidgets>=7.5.0->bqplot>=0.10.1->vaex-jupyter<0.7,>=0.6.0->vaex) (5.8.0)\n",
      "Requirement already satisfied: tornado>=4.2 in /opt/anaconda3/envs/learn-env/lib/python3.6/site-packages (from ipykernel>=4.5.1->ipywidgets>=7.5.0->bqplot>=0.10.1->vaex-jupyter<0.7,>=0.6.0->vaex) (6.0.4)\n",
      "Requirement already satisfied: appnope in /opt/anaconda3/envs/learn-env/lib/python3.6/site-packages (from ipykernel>=4.5.1->ipywidgets>=7.5.0->bqplot>=0.10.1->vaex-jupyter<0.7,>=0.6.0->vaex) (0.1.0)\n",
      "Requirement already satisfied: jupyter-client in /opt/anaconda3/envs/learn-env/lib/python3.6/site-packages (from ipykernel>=4.5.1->ipywidgets>=7.5.0->bqplot>=0.10.1->vaex-jupyter<0.7,>=0.6.0->vaex) (6.1.6)\n",
      "Requirement already satisfied: pygments in /opt/anaconda3/envs/learn-env/lib/python3.6/site-packages (from ipython>=4.0.0->ipywidgets>=7.5.0->bqplot>=0.10.1->vaex-jupyter<0.7,>=0.6.0->vaex) (2.6.1)\n",
      "Requirement already satisfied: pexpect in /opt/anaconda3/envs/learn-env/lib/python3.6/site-packages (from ipython>=4.0.0->ipywidgets>=7.5.0->bqplot>=0.10.1->vaex-jupyter<0.7,>=0.6.0->vaex) (4.8.0)\n",
      "Requirement already satisfied: pickleshare in /opt/anaconda3/envs/learn-env/lib/python3.6/site-packages (from ipython>=4.0.0->ipywidgets>=7.5.0->bqplot>=0.10.1->vaex-jupyter<0.7,>=0.6.0->vaex) (0.7.5)\n",
      "Requirement already satisfied: prompt-toolkit<2.0.0,>=1.0.4 in /opt/anaconda3/envs/learn-env/lib/python3.6/site-packages (from ipython>=4.0.0->ipywidgets>=7.5.0->bqplot>=0.10.1->vaex-jupyter<0.7,>=0.6.0->vaex) (1.0.15)\n",
      "Requirement already satisfied: simplegeneric>0.8 in /opt/anaconda3/envs/learn-env/lib/python3.6/site-packages (from ipython>=4.0.0->ipywidgets>=7.5.0->bqplot>=0.10.1->vaex-jupyter<0.7,>=0.6.0->vaex) (0.8.1)\n",
      "Requirement already satisfied: setuptools>=18.5 in /opt/anaconda3/envs/learn-env/lib/python3.6/site-packages (from ipython>=4.0.0->ipywidgets>=7.5.0->bqplot>=0.10.1->vaex-jupyter<0.7,>=0.6.0->vaex) (51.3.3)\n",
      "Requirement already satisfied: decorator in /opt/anaconda3/envs/learn-env/lib/python3.6/site-packages (from ipython>=4.0.0->ipywidgets>=7.5.0->bqplot>=0.10.1->vaex-jupyter<0.7,>=0.6.0->vaex) (4.4.2)\n",
      "Requirement already satisfied: jupyter-core in /opt/anaconda3/envs/learn-env/lib/python3.6/site-packages (from nbformat>=4.2.0->ipywidgets>=7.5.0->bqplot>=0.10.1->vaex-jupyter<0.7,>=0.6.0->vaex) (4.6.3)\n",
      "Requirement already satisfied: ipython-genutils in /opt/anaconda3/envs/learn-env/lib/python3.6/site-packages (from nbformat>=4.2.0->ipywidgets>=7.5.0->bqplot>=0.10.1->vaex-jupyter<0.7,>=0.6.0->vaex) (0.2.0)\n",
      "Requirement already satisfied: jsonschema!=2.5.0,>=2.4 in /opt/anaconda3/envs/learn-env/lib/python3.6/site-packages (from nbformat>=4.2.0->ipywidgets>=7.5.0->bqplot>=0.10.1->vaex-jupyter<0.7,>=0.6.0->vaex) (2.6.0)\n"
     ]
    },
    {
     "name": "stdout",
     "output_type": "stream",
     "text": [
      "Requirement already satisfied: wcwidth in /opt/anaconda3/envs/learn-env/lib/python3.6/site-packages (from prompt-toolkit<2.0.0,>=1.0.4->ipython>=4.0.0->ipywidgets>=7.5.0->bqplot>=0.10.1->vaex-jupyter<0.7,>=0.6.0->vaex) (0.2.5)\n",
      "Requirement already satisfied: ipydatawidgets>=1.1.1 in /opt/anaconda3/envs/learn-env/lib/python3.6/site-packages (from pythreejs>=1.0.0->ipyvolume>=0.4->vaex-jupyter<0.7,>=0.6.0->vaex) (4.2.0)\n",
      "Requirement already satisfied: numba in /opt/anaconda3/envs/learn-env/lib/python3.6/site-packages (from vaex-ml<0.12,>=0.11.0->vaex) (0.52.0)\n",
      "Requirement already satisfied: jinja2 in /opt/anaconda3/envs/learn-env/lib/python3.6/site-packages (from vaex-ml<0.12,>=0.11.0->vaex) (2.10)\n",
      "Requirement already satisfied: cachetools in /opt/anaconda3/envs/learn-env/lib/python3.6/site-packages (from vaex-server<0.5,>=0.4.0->vaex) (4.1.1)\n",
      "Requirement already satisfied: matplotlib>=1.3.1 in /opt/anaconda3/envs/learn-env/lib/python3.6/site-packages (from vaex-viz<0.6,>=0.5.0->vaex) (3.3.3)\n",
      "Requirement already satisfied: cycler>=0.10 in /opt/anaconda3/envs/learn-env/lib/python3.6/site-packages (from matplotlib>=1.3.1->vaex-viz<0.6,>=0.5.0->vaex) (0.10.0)\n",
      "Requirement already satisfied: python-dateutil>=2.1 in /opt/anaconda3/envs/learn-env/lib/python3.6/site-packages (from matplotlib>=1.3.1->vaex-viz<0.6,>=0.5.0->vaex) (2.8.1)\n",
      "Requirement already satisfied: pyparsing!=2.0.4,!=2.1.2,!=2.1.6,>=2.0.3 in /opt/anaconda3/envs/learn-env/lib/python3.6/site-packages (from matplotlib>=1.3.1->vaex-viz<0.6,>=0.5.0->vaex) (2.4.7)\n",
      "Requirement already satisfied: kiwisolver>=1.0.1 in /opt/anaconda3/envs/learn-env/lib/python3.6/site-packages (from matplotlib>=1.3.1->vaex-viz<0.6,>=0.5.0->vaex) (1.2.0)\n",
      "Requirement already satisfied: notebook>=4.4.1 in /opt/anaconda3/envs/learn-env/lib/python3.6/site-packages (from widgetsnbextension~=3.5.0->ipywidgets>=7.5.0->bqplot>=0.10.1->vaex-jupyter<0.7,>=0.6.0->vaex) (6.1.2)\n",
      "Requirement already satisfied: pyzmq>=17 in /opt/anaconda3/envs/learn-env/lib/python3.6/site-packages (from notebook>=4.4.1->widgetsnbextension~=3.5.0->ipywidgets>=7.5.0->bqplot>=0.10.1->vaex-jupyter<0.7,>=0.6.0->vaex) (18.1.1)\n",
      "Requirement already satisfied: Send2Trash in /opt/anaconda3/envs/learn-env/lib/python3.6/site-packages (from notebook>=4.4.1->widgetsnbextension~=3.5.0->ipywidgets>=7.5.0->bqplot>=0.10.1->vaex-jupyter<0.7,>=0.6.0->vaex) (1.5.0)\n",
      "Requirement already satisfied: prometheus-client in /opt/anaconda3/envs/learn-env/lib/python3.6/site-packages (from notebook>=4.4.1->widgetsnbextension~=3.5.0->ipywidgets>=7.5.0->bqplot>=0.10.1->vaex-jupyter<0.7,>=0.6.0->vaex) (0.8.0)\n",
      "Requirement already satisfied: terminado>=0.8.3 in /opt/anaconda3/envs/learn-env/lib/python3.6/site-packages (from notebook>=4.4.1->widgetsnbextension~=3.5.0->ipywidgets>=7.5.0->bqplot>=0.10.1->vaex-jupyter<0.7,>=0.6.0->vaex) (0.8.3)\n",
      "Requirement already satisfied: nbconvert in /opt/anaconda3/envs/learn-env/lib/python3.6/site-packages (from notebook>=4.4.1->widgetsnbextension~=3.5.0->ipywidgets>=7.5.0->bqplot>=0.10.1->vaex-jupyter<0.7,>=0.6.0->vaex) (5.6.1)\n",
      "Requirement already satisfied: argon2-cffi in /opt/anaconda3/envs/learn-env/lib/python3.6/site-packages (from notebook>=4.4.1->widgetsnbextension~=3.5.0->ipywidgets>=7.5.0->bqplot>=0.10.1->vaex-jupyter<0.7,>=0.6.0->vaex) (20.1.0)\n",
      "Requirement already satisfied: cffi>=1.0.0 in /opt/anaconda3/envs/learn-env/lib/python3.6/site-packages (from argon2-cffi->notebook>=4.4.1->widgetsnbextension~=3.5.0->ipywidgets>=7.5.0->bqplot>=0.10.1->vaex-jupyter<0.7,>=0.6.0->vaex) (1.14.1)\n",
      "Requirement already satisfied: pycparser in /opt/anaconda3/envs/learn-env/lib/python3.6/site-packages (from cffi>=1.0.0->argon2-cffi->notebook>=4.4.1->widgetsnbextension~=3.5.0->ipywidgets>=7.5.0->bqplot>=0.10.1->vaex-jupyter<0.7,>=0.6.0->vaex) (2.20)\n",
      "Requirement already satisfied: toolz>=0.8.2 in /opt/anaconda3/envs/learn-env/lib/python3.6/site-packages (from dask[array]->vaex-core<5,>=4.0.0->vaex) (0.11.1)\n",
      "Requirement already satisfied: branca<0.5,>=0.3.1 in /opt/anaconda3/envs/learn-env/lib/python3.6/site-packages (from ipyleaflet->vaex-jupyter<0.7,>=0.6.0->vaex) (0.4.1)\n",
      "Requirement already satisfied: shapely in /opt/anaconda3/envs/learn-env/lib/python3.6/site-packages (from ipyleaflet->vaex-jupyter<0.7,>=0.6.0->vaex) (1.7.1)\n",
      "Requirement already satisfied: MarkupSafe>=0.23 in /opt/anaconda3/envs/learn-env/lib/python3.6/site-packages (from jinja2->vaex-ml<0.12,>=0.11.0->vaex) (1.1.1)\n",
      "Requirement already satisfied: bleach in /opt/anaconda3/envs/learn-env/lib/python3.6/site-packages (from nbconvert->notebook>=4.4.1->widgetsnbextension~=3.5.0->ipywidgets>=7.5.0->bqplot>=0.10.1->vaex-jupyter<0.7,>=0.6.0->vaex) (3.1.5)\n",
      "Requirement already satisfied: entrypoints>=0.2.2 in /opt/anaconda3/envs/learn-env/lib/python3.6/site-packages (from nbconvert->notebook>=4.4.1->widgetsnbextension~=3.5.0->ipywidgets>=7.5.0->bqplot>=0.10.1->vaex-jupyter<0.7,>=0.6.0->vaex) (0.3)\n",
      "Requirement already satisfied: defusedxml in /opt/anaconda3/envs/learn-env/lib/python3.6/site-packages (from nbconvert->notebook>=4.4.1->widgetsnbextension~=3.5.0->ipywidgets>=7.5.0->bqplot>=0.10.1->vaex-jupyter<0.7,>=0.6.0->vaex) (0.6.0)\n",
      "Requirement already satisfied: mistune<2,>=0.8.1 in /opt/anaconda3/envs/learn-env/lib/python3.6/site-packages (from nbconvert->notebook>=4.4.1->widgetsnbextension~=3.5.0->ipywidgets>=7.5.0->bqplot>=0.10.1->vaex-jupyter<0.7,>=0.6.0->vaex) (0.8.4)\n",
      "Requirement already satisfied: testpath in /opt/anaconda3/envs/learn-env/lib/python3.6/site-packages (from nbconvert->notebook>=4.4.1->widgetsnbextension~=3.5.0->ipywidgets>=7.5.0->bqplot>=0.10.1->vaex-jupyter<0.7,>=0.6.0->vaex) (0.4.4)\n",
      "Requirement already satisfied: pandocfilters>=1.4.1 in /opt/anaconda3/envs/learn-env/lib/python3.6/site-packages (from nbconvert->notebook>=4.4.1->widgetsnbextension~=3.5.0->ipywidgets>=7.5.0->bqplot>=0.10.1->vaex-jupyter<0.7,>=0.6.0->vaex) (1.4.2)\n",
      "Requirement already satisfied: packaging in /opt/anaconda3/envs/learn-env/lib/python3.6/site-packages (from bleach->nbconvert->notebook>=4.4.1->widgetsnbextension~=3.5.0->ipywidgets>=7.5.0->bqplot>=0.10.1->vaex-jupyter<0.7,>=0.6.0->vaex) (20.4)\n",
      "Requirement already satisfied: webencodings in /opt/anaconda3/envs/learn-env/lib/python3.6/site-packages (from bleach->nbconvert->notebook>=4.4.1->widgetsnbextension~=3.5.0->ipywidgets>=7.5.0->bqplot>=0.10.1->vaex-jupyter<0.7,>=0.6.0->vaex) (0.5.1)\n",
      "Requirement already satisfied: llvmlite<0.36,>=0.35.0 in /opt/anaconda3/envs/learn-env/lib/python3.6/site-packages (from numba->vaex-ml<0.12,>=0.11.0->vaex) (0.35.0)\n",
      "Requirement already satisfied: pytz>=2017.2 in /opt/anaconda3/envs/learn-env/lib/python3.6/site-packages (from pandas->vaex-core<5,>=4.0.0->vaex) (2020.1)\n",
      "Requirement already satisfied: ptyprocess>=0.5 in /opt/anaconda3/envs/learn-env/lib/python3.6/site-packages (from pexpect->ipython>=4.0.0->ipywidgets>=7.5.0->bqplot>=0.10.1->vaex-jupyter<0.7,>=0.6.0->vaex) (0.6.0)\n",
      "Requirement already satisfied: python-utils>=2.3.0 in /opt/anaconda3/envs/learn-env/lib/python3.6/site-packages (from progressbar2->vaex-core<5,>=4.0.0->vaex) (2.5.6)\n",
      "Requirement already satisfied: urllib3!=1.25.0,!=1.25.1,<1.26,>=1.21.1 in /opt/anaconda3/envs/learn-env/lib/python3.6/site-packages (from requests->vaex-core<5,>=4.0.0->vaex) (1.25.10)\n",
      "Requirement already satisfied: idna<3,>=2.5 in /opt/anaconda3/envs/learn-env/lib/python3.6/site-packages (from requests->vaex-core<5,>=4.0.0->vaex) (2.10)\n",
      "Requirement already satisfied: chardet<4,>=3.0.2 in /opt/anaconda3/envs/learn-env/lib/python3.6/site-packages (from requests->vaex-core<5,>=4.0.0->vaex) (3.0.4)\n",
      "Requirement already satisfied: certifi>=2017.4.17 in /opt/anaconda3/envs/learn-env/lib/python3.6/site-packages (from requests->vaex-core<5,>=4.0.0->vaex) (2020.12.5)\n"
     ]
    }
   ],
   "source": [
    "!pip install --upgrade vaex"
   ]
  },
  {
   "cell_type": "code",
   "execution_count": 39,
   "metadata": {
    "ExecuteTime": {
     "end_time": "2021-03-13T23:16:08.490071Z",
     "start_time": "2021-03-13T23:16:08.290553Z"
    }
   },
   "outputs": [
    {
     "ename": "ContextualVersionConflict",
     "evalue": "(pyarrow 2.0.0 (/opt/anaconda3/envs/learn-env/lib/python3.6/site-packages), Requirement.parse('pyarrow>=3.0'), {'vaex-core'})",
     "output_type": "error",
     "traceback": [
      "\u001b[0;31m---------------------------------------------------------------------------\u001b[0m",
      "\u001b[0;31mContextualVersionConflict\u001b[0m                 Traceback (most recent call last)",
      "\u001b[0;32m<ipython-input-39-710c8f6b7287>\u001b[0m in \u001b[0;36m<module>\u001b[0;34m()\u001b[0m\n\u001b[0;32m----> 1\u001b[0;31m \u001b[0;32mimport\u001b[0m \u001b[0mvaex\u001b[0m\u001b[0;34m\u001b[0m\u001b[0;34m\u001b[0m\u001b[0m\n\u001b[0m",
      "\u001b[0;32m/opt/anaconda3/envs/learn-env/lib/python3.6/site-packages/vaex/__init__.py\u001b[0m in \u001b[0;36m<module>\u001b[0;34m()\u001b[0m\n\u001b[1;32m     66\u001b[0m     \u001b[0;32mraise\u001b[0m\u001b[0;34m\u001b[0m\u001b[0;34m\u001b[0m\u001b[0m\n\u001b[1;32m     67\u001b[0m \u001b[0;34m\u001b[0m\u001b[0m\n\u001b[0;32m---> 68\u001b[0;31m \u001b[0m__version__\u001b[0m \u001b[0;34m=\u001b[0m \u001b[0mversion\u001b[0m\u001b[0;34m.\u001b[0m\u001b[0mget_versions\u001b[0m\u001b[0;34m(\u001b[0m\u001b[0;34m)\u001b[0m\u001b[0;34m\u001b[0m\u001b[0;34m\u001b[0m\u001b[0m\n\u001b[0m\u001b[1;32m     69\u001b[0m \u001b[0;34m\u001b[0m\u001b[0m\n\u001b[1;32m     70\u001b[0m \u001b[0;34m\u001b[0m\u001b[0m\n",
      "\u001b[0;32m/opt/anaconda3/envs/learn-env/lib/python3.6/site-packages/vaex/version.py\u001b[0m in \u001b[0;36mget_versions\u001b[0;34m()\u001b[0m\n\u001b[1;32m     13\u001b[0m         \u001b[0;32mexcept\u001b[0m \u001b[0mpkg_resources\u001b[0m\u001b[0;34m.\u001b[0m\u001b[0mDistributionNotFound\u001b[0m\u001b[0;34m:\u001b[0m\u001b[0;34m\u001b[0m\u001b[0;34m\u001b[0m\u001b[0m\n\u001b[1;32m     14\u001b[0m             \u001b[0;32mreturn\u001b[0m \u001b[0;32mFalse\u001b[0m\u001b[0;34m\u001b[0m\u001b[0;34m\u001b[0m\u001b[0m\n\u001b[0;32m---> 15\u001b[0;31m     \u001b[0;32mreturn\u001b[0m \u001b[0;34m{\u001b[0m\u001b[0mp\u001b[0m\u001b[0;34m:\u001b[0m \u001b[0mpkg_resources\u001b[0m\u001b[0;34m.\u001b[0m\u001b[0mget_distribution\u001b[0m\u001b[0;34m(\u001b[0m\u001b[0mp\u001b[0m\u001b[0;34m)\u001b[0m\u001b[0;34m.\u001b[0m\u001b[0mversion\u001b[0m \u001b[0;32mfor\u001b[0m \u001b[0mp\u001b[0m \u001b[0;32min\u001b[0m \u001b[0mpackages\u001b[0m \u001b[0;32mif\u001b[0m \u001b[0mis_installed\u001b[0m\u001b[0;34m(\u001b[0m\u001b[0mp\u001b[0m\u001b[0;34m)\u001b[0m\u001b[0;34m}\u001b[0m\u001b[0;34m\u001b[0m\u001b[0;34m\u001b[0m\u001b[0m\n\u001b[0m",
      "\u001b[0;32m/opt/anaconda3/envs/learn-env/lib/python3.6/site-packages/vaex/version.py\u001b[0m in \u001b[0;36m<dictcomp>\u001b[0;34m(.0)\u001b[0m\n\u001b[1;32m     13\u001b[0m         \u001b[0;32mexcept\u001b[0m \u001b[0mpkg_resources\u001b[0m\u001b[0;34m.\u001b[0m\u001b[0mDistributionNotFound\u001b[0m\u001b[0;34m:\u001b[0m\u001b[0;34m\u001b[0m\u001b[0;34m\u001b[0m\u001b[0m\n\u001b[1;32m     14\u001b[0m             \u001b[0;32mreturn\u001b[0m \u001b[0;32mFalse\u001b[0m\u001b[0;34m\u001b[0m\u001b[0;34m\u001b[0m\u001b[0m\n\u001b[0;32m---> 15\u001b[0;31m     \u001b[0;32mreturn\u001b[0m \u001b[0;34m{\u001b[0m\u001b[0mp\u001b[0m\u001b[0;34m:\u001b[0m \u001b[0mpkg_resources\u001b[0m\u001b[0;34m.\u001b[0m\u001b[0mget_distribution\u001b[0m\u001b[0;34m(\u001b[0m\u001b[0mp\u001b[0m\u001b[0;34m)\u001b[0m\u001b[0;34m.\u001b[0m\u001b[0mversion\u001b[0m \u001b[0;32mfor\u001b[0m \u001b[0mp\u001b[0m \u001b[0;32min\u001b[0m \u001b[0mpackages\u001b[0m \u001b[0;32mif\u001b[0m \u001b[0mis_installed\u001b[0m\u001b[0;34m(\u001b[0m\u001b[0mp\u001b[0m\u001b[0;34m)\u001b[0m\u001b[0;34m}\u001b[0m\u001b[0;34m\u001b[0m\u001b[0;34m\u001b[0m\u001b[0m\n\u001b[0m",
      "\u001b[0;32m/opt/anaconda3/envs/learn-env/lib/python3.6/site-packages/vaex/version.py\u001b[0m in \u001b[0;36mis_installed\u001b[0;34m(p)\u001b[0m\n\u001b[1;32m      9\u001b[0m     \u001b[0;32mdef\u001b[0m \u001b[0mis_installed\u001b[0m\u001b[0;34m(\u001b[0m\u001b[0mp\u001b[0m\u001b[0;34m)\u001b[0m\u001b[0;34m:\u001b[0m\u001b[0;34m\u001b[0m\u001b[0;34m\u001b[0m\u001b[0m\n\u001b[1;32m     10\u001b[0m         \u001b[0;32mtry\u001b[0m\u001b[0;34m:\u001b[0m\u001b[0;34m\u001b[0m\u001b[0;34m\u001b[0m\u001b[0m\n\u001b[0;32m---> 11\u001b[0;31m             \u001b[0mpkg_resources\u001b[0m\u001b[0;34m.\u001b[0m\u001b[0mget_distribution\u001b[0m\u001b[0;34m(\u001b[0m\u001b[0mp\u001b[0m\u001b[0;34m)\u001b[0m\u001b[0;34m\u001b[0m\u001b[0;34m\u001b[0m\u001b[0m\n\u001b[0m\u001b[1;32m     12\u001b[0m             \u001b[0;32mreturn\u001b[0m \u001b[0;32mTrue\u001b[0m\u001b[0;34m\u001b[0m\u001b[0;34m\u001b[0m\u001b[0m\n\u001b[1;32m     13\u001b[0m         \u001b[0;32mexcept\u001b[0m \u001b[0mpkg_resources\u001b[0m\u001b[0;34m.\u001b[0m\u001b[0mDistributionNotFound\u001b[0m\u001b[0;34m:\u001b[0m\u001b[0;34m\u001b[0m\u001b[0;34m\u001b[0m\u001b[0m\n",
      "\u001b[0;32m/opt/anaconda3/envs/learn-env/lib/python3.6/site-packages/pkg_resources/__init__.py\u001b[0m in \u001b[0;36mget_distribution\u001b[0;34m(dist)\u001b[0m\n\u001b[1;32m    464\u001b[0m         \u001b[0mdist\u001b[0m \u001b[0;34m=\u001b[0m \u001b[0mRequirement\u001b[0m\u001b[0;34m.\u001b[0m\u001b[0mparse\u001b[0m\u001b[0;34m(\u001b[0m\u001b[0mdist\u001b[0m\u001b[0;34m)\u001b[0m\u001b[0;34m\u001b[0m\u001b[0;34m\u001b[0m\u001b[0m\n\u001b[1;32m    465\u001b[0m     \u001b[0;32mif\u001b[0m \u001b[0misinstance\u001b[0m\u001b[0;34m(\u001b[0m\u001b[0mdist\u001b[0m\u001b[0;34m,\u001b[0m \u001b[0mRequirement\u001b[0m\u001b[0;34m)\u001b[0m\u001b[0;34m:\u001b[0m\u001b[0;34m\u001b[0m\u001b[0;34m\u001b[0m\u001b[0m\n\u001b[0;32m--> 466\u001b[0;31m         \u001b[0mdist\u001b[0m \u001b[0;34m=\u001b[0m \u001b[0mget_provider\u001b[0m\u001b[0;34m(\u001b[0m\u001b[0mdist\u001b[0m\u001b[0;34m)\u001b[0m\u001b[0;34m\u001b[0m\u001b[0;34m\u001b[0m\u001b[0m\n\u001b[0m\u001b[1;32m    467\u001b[0m     \u001b[0;32mif\u001b[0m \u001b[0;32mnot\u001b[0m \u001b[0misinstance\u001b[0m\u001b[0;34m(\u001b[0m\u001b[0mdist\u001b[0m\u001b[0;34m,\u001b[0m \u001b[0mDistribution\u001b[0m\u001b[0;34m)\u001b[0m\u001b[0;34m:\u001b[0m\u001b[0;34m\u001b[0m\u001b[0;34m\u001b[0m\u001b[0m\n\u001b[1;32m    468\u001b[0m         \u001b[0;32mraise\u001b[0m \u001b[0mTypeError\u001b[0m\u001b[0;34m(\u001b[0m\u001b[0;34m\"Expected string, Requirement, or Distribution\"\u001b[0m\u001b[0;34m,\u001b[0m \u001b[0mdist\u001b[0m\u001b[0;34m)\u001b[0m\u001b[0;34m\u001b[0m\u001b[0;34m\u001b[0m\u001b[0m\n",
      "\u001b[0;32m/opt/anaconda3/envs/learn-env/lib/python3.6/site-packages/pkg_resources/__init__.py\u001b[0m in \u001b[0;36mget_provider\u001b[0;34m(moduleOrReq)\u001b[0m\n\u001b[1;32m    340\u001b[0m     \u001b[0;34m\"\"\"Return an IResourceProvider for the named module or requirement\"\"\"\u001b[0m\u001b[0;34m\u001b[0m\u001b[0;34m\u001b[0m\u001b[0m\n\u001b[1;32m    341\u001b[0m     \u001b[0;32mif\u001b[0m \u001b[0misinstance\u001b[0m\u001b[0;34m(\u001b[0m\u001b[0mmoduleOrReq\u001b[0m\u001b[0;34m,\u001b[0m \u001b[0mRequirement\u001b[0m\u001b[0;34m)\u001b[0m\u001b[0;34m:\u001b[0m\u001b[0;34m\u001b[0m\u001b[0;34m\u001b[0m\u001b[0m\n\u001b[0;32m--> 342\u001b[0;31m         \u001b[0;32mreturn\u001b[0m \u001b[0mworking_set\u001b[0m\u001b[0;34m.\u001b[0m\u001b[0mfind\u001b[0m\u001b[0;34m(\u001b[0m\u001b[0mmoduleOrReq\u001b[0m\u001b[0;34m)\u001b[0m \u001b[0;32mor\u001b[0m \u001b[0mrequire\u001b[0m\u001b[0;34m(\u001b[0m\u001b[0mstr\u001b[0m\u001b[0;34m(\u001b[0m\u001b[0mmoduleOrReq\u001b[0m\u001b[0;34m)\u001b[0m\u001b[0;34m)\u001b[0m\u001b[0;34m[\u001b[0m\u001b[0;36m0\u001b[0m\u001b[0;34m]\u001b[0m\u001b[0;34m\u001b[0m\u001b[0;34m\u001b[0m\u001b[0m\n\u001b[0m\u001b[1;32m    343\u001b[0m     \u001b[0;32mtry\u001b[0m\u001b[0;34m:\u001b[0m\u001b[0;34m\u001b[0m\u001b[0;34m\u001b[0m\u001b[0m\n\u001b[1;32m    344\u001b[0m         \u001b[0mmodule\u001b[0m \u001b[0;34m=\u001b[0m \u001b[0msys\u001b[0m\u001b[0;34m.\u001b[0m\u001b[0mmodules\u001b[0m\u001b[0;34m[\u001b[0m\u001b[0mmoduleOrReq\u001b[0m\u001b[0;34m]\u001b[0m\u001b[0;34m\u001b[0m\u001b[0;34m\u001b[0m\u001b[0m\n",
      "\u001b[0;32m/opt/anaconda3/envs/learn-env/lib/python3.6/site-packages/pkg_resources/__init__.py\u001b[0m in \u001b[0;36mrequire\u001b[0;34m(self, *requirements)\u001b[0m\n\u001b[1;32m    884\u001b[0m         \u001b[0mincluded\u001b[0m\u001b[0;34m,\u001b[0m \u001b[0meven\u001b[0m \u001b[0;32mif\u001b[0m \u001b[0mthey\u001b[0m \u001b[0mwere\u001b[0m \u001b[0malready\u001b[0m \u001b[0mactivated\u001b[0m \u001b[0;32min\u001b[0m \u001b[0mthis\u001b[0m \u001b[0mworking\u001b[0m \u001b[0mset\u001b[0m\u001b[0;34m.\u001b[0m\u001b[0;34m\u001b[0m\u001b[0;34m\u001b[0m\u001b[0m\n\u001b[1;32m    885\u001b[0m         \"\"\"\n\u001b[0;32m--> 886\u001b[0;31m         \u001b[0mneeded\u001b[0m \u001b[0;34m=\u001b[0m \u001b[0mself\u001b[0m\u001b[0;34m.\u001b[0m\u001b[0mresolve\u001b[0m\u001b[0;34m(\u001b[0m\u001b[0mparse_requirements\u001b[0m\u001b[0;34m(\u001b[0m\u001b[0mrequirements\u001b[0m\u001b[0;34m)\u001b[0m\u001b[0;34m)\u001b[0m\u001b[0;34m\u001b[0m\u001b[0;34m\u001b[0m\u001b[0m\n\u001b[0m\u001b[1;32m    887\u001b[0m \u001b[0;34m\u001b[0m\u001b[0m\n\u001b[1;32m    888\u001b[0m         \u001b[0;32mfor\u001b[0m \u001b[0mdist\u001b[0m \u001b[0;32min\u001b[0m \u001b[0mneeded\u001b[0m\u001b[0;34m:\u001b[0m\u001b[0;34m\u001b[0m\u001b[0;34m\u001b[0m\u001b[0m\n",
      "\u001b[0;32m/opt/anaconda3/envs/learn-env/lib/python3.6/site-packages/pkg_resources/__init__.py\u001b[0m in \u001b[0;36mresolve\u001b[0;34m(self, requirements, env, installer, replace_conflicting, extras)\u001b[0m\n\u001b[1;32m    775\u001b[0m                 \u001b[0;31m# Oops, the \"best\" so far conflicts with a dependency\u001b[0m\u001b[0;34m\u001b[0m\u001b[0;34m\u001b[0m\u001b[0;34m\u001b[0m\u001b[0m\n\u001b[1;32m    776\u001b[0m                 \u001b[0mdependent_req\u001b[0m \u001b[0;34m=\u001b[0m \u001b[0mrequired_by\u001b[0m\u001b[0;34m[\u001b[0m\u001b[0mreq\u001b[0m\u001b[0;34m]\u001b[0m\u001b[0;34m\u001b[0m\u001b[0;34m\u001b[0m\u001b[0m\n\u001b[0;32m--> 777\u001b[0;31m                 \u001b[0;32mraise\u001b[0m \u001b[0mVersionConflict\u001b[0m\u001b[0;34m(\u001b[0m\u001b[0mdist\u001b[0m\u001b[0;34m,\u001b[0m \u001b[0mreq\u001b[0m\u001b[0;34m)\u001b[0m\u001b[0;34m.\u001b[0m\u001b[0mwith_context\u001b[0m\u001b[0;34m(\u001b[0m\u001b[0mdependent_req\u001b[0m\u001b[0;34m)\u001b[0m\u001b[0;34m\u001b[0m\u001b[0;34m\u001b[0m\u001b[0m\n\u001b[0m\u001b[1;32m    778\u001b[0m \u001b[0;34m\u001b[0m\u001b[0m\n\u001b[1;32m    779\u001b[0m             \u001b[0;31m# push the new requirements onto the stack\u001b[0m\u001b[0;34m\u001b[0m\u001b[0;34m\u001b[0m\u001b[0;34m\u001b[0m\u001b[0m\n",
      "\u001b[0;31mContextualVersionConflict\u001b[0m: (pyarrow 2.0.0 (/opt/anaconda3/envs/learn-env/lib/python3.6/site-packages), Requirement.parse('pyarrow>=3.0'), {'vaex-core'})"
     ]
    }
   ],
   "source": [
    "import vaex"
   ]
  },
  {
   "cell_type": "code",
   "execution_count": 3,
   "metadata": {
    "ExecuteTime": {
     "end_time": "2021-03-13T22:55:06.158686Z",
     "start_time": "2021-03-13T22:55:04.898185Z"
    }
   },
   "outputs": [
    {
     "data": {
      "application/javascript": [
       "\n",
       "        if (window._pyforest_update_imports_cell) { window._pyforest_update_imports_cell('import pandas as pd'); }\n",
       "    "
      ],
      "text/plain": [
       "<IPython.core.display.Javascript object>"
      ]
     },
     "metadata": {},
     "output_type": "display_data"
    }
   ],
   "source": [
    "df = pd.read_csv('data/brazil_covid19_cities.csv')"
   ]
  },
  {
   "cell_type": "code",
   "execution_count": 5,
   "metadata": {
    "ExecuteTime": {
     "end_time": "2021-03-13T22:55:14.650542Z",
     "start_time": "2021-03-13T22:55:14.629956Z"
    }
   },
   "outputs": [
    {
     "data": {
      "text/html": [
       "<div>\n",
       "<style scoped>\n",
       "    .dataframe tbody tr th:only-of-type {\n",
       "        vertical-align: middle;\n",
       "    }\n",
       "\n",
       "    .dataframe tbody tr th {\n",
       "        vertical-align: top;\n",
       "    }\n",
       "\n",
       "    .dataframe thead th {\n",
       "        text-align: right;\n",
       "    }\n",
       "</style>\n",
       "<table border=\"1\" class=\"dataframe\">\n",
       "  <thead>\n",
       "    <tr style=\"text-align: right;\">\n",
       "      <th></th>\n",
       "      <th>date</th>\n",
       "      <th>state</th>\n",
       "      <th>name</th>\n",
       "      <th>code</th>\n",
       "      <th>cases</th>\n",
       "      <th>deaths</th>\n",
       "    </tr>\n",
       "  </thead>\n",
       "  <tbody>\n",
       "    <tr>\n",
       "      <th>0</th>\n",
       "      <td>2020-03-27</td>\n",
       "      <td>AC</td>\n",
       "      <td>Acrelândia</td>\n",
       "      <td>120001.0</td>\n",
       "      <td>0</td>\n",
       "      <td>0</td>\n",
       "    </tr>\n",
       "    <tr>\n",
       "      <th>1</th>\n",
       "      <td>2020-03-27</td>\n",
       "      <td>AC</td>\n",
       "      <td>Assis Brasil</td>\n",
       "      <td>120005.0</td>\n",
       "      <td>0</td>\n",
       "      <td>0</td>\n",
       "    </tr>\n",
       "    <tr>\n",
       "      <th>2</th>\n",
       "      <td>2020-03-27</td>\n",
       "      <td>AC</td>\n",
       "      <td>Brasiléia</td>\n",
       "      <td>120010.0</td>\n",
       "      <td>0</td>\n",
       "      <td>0</td>\n",
       "    </tr>\n",
       "    <tr>\n",
       "      <th>3</th>\n",
       "      <td>2020-03-27</td>\n",
       "      <td>AC</td>\n",
       "      <td>Bujari</td>\n",
       "      <td>120013.0</td>\n",
       "      <td>0</td>\n",
       "      <td>0</td>\n",
       "    </tr>\n",
       "    <tr>\n",
       "      <th>4</th>\n",
       "      <td>2020-03-27</td>\n",
       "      <td>AC</td>\n",
       "      <td>Capixaba</td>\n",
       "      <td>120017.0</td>\n",
       "      <td>0</td>\n",
       "      <td>0</td>\n",
       "    </tr>\n",
       "  </tbody>\n",
       "</table>\n",
       "</div>"
      ],
      "text/plain": [
       "         date state          name      code  cases  deaths\n",
       "0  2020-03-27    AC    Acrelândia  120001.0      0       0\n",
       "1  2020-03-27    AC  Assis Brasil  120005.0      0       0\n",
       "2  2020-03-27    AC     Brasiléia  120010.0      0       0\n",
       "3  2020-03-27    AC        Bujari  120013.0      0       0\n",
       "4  2020-03-27    AC      Capixaba  120017.0      0       0"
      ]
     },
     "execution_count": 5,
     "metadata": {},
     "output_type": "execute_result"
    }
   ],
   "source": [
    "df.head(5)"
   ]
  },
  {
   "cell_type": "code",
   "execution_count": 34,
   "metadata": {
    "ExecuteTime": {
     "end_time": "2021-03-13T23:12:17.316373Z",
     "start_time": "2021-03-13T23:12:17.312382Z"
    }
   },
   "outputs": [
    {
     "data": {
      "text/plain": [
       "(1955070, 6)"
      ]
     },
     "execution_count": 34,
     "metadata": {},
     "output_type": "execute_result"
    }
   ],
   "source": [
    "df.shape"
   ]
  },
  {
   "cell_type": "code",
   "execution_count": 6,
   "metadata": {
    "ExecuteTime": {
     "end_time": "2021-03-13T22:55:24.391325Z",
     "start_time": "2021-03-13T22:55:24.120374Z"
    }
   },
   "outputs": [
    {
     "data": {
      "text/html": [
       "<div>\n",
       "<style scoped>\n",
       "    .dataframe tbody tr th:only-of-type {\n",
       "        vertical-align: middle;\n",
       "    }\n",
       "\n",
       "    .dataframe tbody tr th {\n",
       "        vertical-align: top;\n",
       "    }\n",
       "\n",
       "    .dataframe thead th {\n",
       "        text-align: right;\n",
       "    }\n",
       "</style>\n",
       "<table border=\"1\" class=\"dataframe\">\n",
       "  <thead>\n",
       "    <tr style=\"text-align: right;\">\n",
       "      <th></th>\n",
       "      <th>code</th>\n",
       "      <th>cases</th>\n",
       "      <th>deaths</th>\n",
       "    </tr>\n",
       "  </thead>\n",
       "  <tbody>\n",
       "    <tr>\n",
       "      <th>count</th>\n",
       "      <td>1.955070e+06</td>\n",
       "      <td>1.955070e+06</td>\n",
       "      <td>1.955070e+06</td>\n",
       "    </tr>\n",
       "    <tr>\n",
       "      <th>mean</th>\n",
       "      <td>3.253586e+05</td>\n",
       "      <td>7.947112e+02</td>\n",
       "      <td>2.219008e+01</td>\n",
       "    </tr>\n",
       "    <tr>\n",
       "      <th>std</th>\n",
       "      <td>9.848222e+04</td>\n",
       "      <td>6.020370e+03</td>\n",
       "      <td>2.527889e+02</td>\n",
       "    </tr>\n",
       "    <tr>\n",
       "      <th>min</th>\n",
       "      <td>1.100010e+05</td>\n",
       "      <td>0.000000e+00</td>\n",
       "      <td>0.000000e+00</td>\n",
       "    </tr>\n",
       "    <tr>\n",
       "      <th>25%</th>\n",
       "      <td>2.512100e+05</td>\n",
       "      <td>1.000000e+01</td>\n",
       "      <td>0.000000e+00</td>\n",
       "    </tr>\n",
       "    <tr>\n",
       "      <th>50%</th>\n",
       "      <td>3.146275e+05</td>\n",
       "      <td>9.600000e+01</td>\n",
       "      <td>2.000000e+00</td>\n",
       "    </tr>\n",
       "    <tr>\n",
       "      <th>75%</th>\n",
       "      <td>4.119200e+05</td>\n",
       "      <td>3.970000e+02</td>\n",
       "      <td>8.000000e+00</td>\n",
       "    </tr>\n",
       "    <tr>\n",
       "      <th>max</th>\n",
       "      <td>5.300100e+05</td>\n",
       "      <td>5.537510e+05</td>\n",
       "      <td>1.947300e+04</td>\n",
       "    </tr>\n",
       "  </tbody>\n",
       "</table>\n",
       "</div>"
      ],
      "text/plain": [
       "               code         cases        deaths\n",
       "count  1.955070e+06  1.955070e+06  1.955070e+06\n",
       "mean   3.253586e+05  7.947112e+02  2.219008e+01\n",
       "std    9.848222e+04  6.020370e+03  2.527889e+02\n",
       "min    1.100010e+05  0.000000e+00  0.000000e+00\n",
       "25%    2.512100e+05  1.000000e+01  0.000000e+00\n",
       "50%    3.146275e+05  9.600000e+01  2.000000e+00\n",
       "75%    4.119200e+05  3.970000e+02  8.000000e+00\n",
       "max    5.300100e+05  5.537510e+05  1.947300e+04"
      ]
     },
     "execution_count": 6,
     "metadata": {},
     "output_type": "execute_result"
    }
   ],
   "source": [
    "df.describe()"
   ]
  },
  {
   "cell_type": "code",
   "execution_count": 7,
   "metadata": {
    "ExecuteTime": {
     "end_time": "2021-03-13T22:55:41.878137Z",
     "start_time": "2021-03-13T22:55:41.872217Z"
    }
   },
   "outputs": [
    {
     "name": "stdout",
     "output_type": "stream",
     "text": [
      "<class 'pandas.core.frame.DataFrame'>\n",
      "RangeIndex: 1955070 entries, 0 to 1955069\n",
      "Data columns (total 6 columns):\n",
      "date      object\n",
      "state     object\n",
      "name      object\n",
      "code      float64\n",
      "cases     int64\n",
      "deaths    int64\n",
      "dtypes: float64(1), int64(2), object(3)\n",
      "memory usage: 89.5+ MB\n"
     ]
    }
   ],
   "source": [
    "df.info()"
   ]
  },
  {
   "cell_type": "code",
   "execution_count": 8,
   "metadata": {
    "ExecuteTime": {
     "end_time": "2021-03-13T22:56:10.825759Z",
     "start_time": "2021-03-13T22:56:10.585153Z"
    }
   },
   "outputs": [
    {
     "data": {
      "text/plain": [
       "date      0\n",
       "state     0\n",
       "name      0\n",
       "code      0\n",
       "cases     0\n",
       "deaths    0\n",
       "dtype: int64"
      ]
     },
     "execution_count": 8,
     "metadata": {},
     "output_type": "execute_result"
    }
   ],
   "source": [
    "df.isna().sum()"
   ]
  },
  {
   "cell_type": "code",
   "execution_count": 32,
   "metadata": {
    "ExecuteTime": {
     "end_time": "2021-03-13T23:11:01.792820Z",
     "start_time": "2021-03-13T23:11:01.784475Z"
    }
   },
   "outputs": [
    {
     "ename": "AttributeError",
     "evalue": "'Series' object has no attribute 'datetime'",
     "output_type": "error",
     "traceback": [
      "\u001b[0;31m---------------------------------------------------------------------------\u001b[0m",
      "\u001b[0;31mAttributeError\u001b[0m                            Traceback (most recent call last)",
      "\u001b[0;32m<ipython-input-32-2dd396b48326>\u001b[0m in \u001b[0;36m<module>\u001b[0;34m()\u001b[0m\n\u001b[1;32m      1\u001b[0m \u001b[0;31m# Let's first convert the dates to a Datatime type\u001b[0m\u001b[0;34m\u001b[0m\u001b[0;34m\u001b[0m\u001b[0;34m\u001b[0m\u001b[0m\n\u001b[0;32m----> 2\u001b[0;31m \u001b[0mdf\u001b[0m\u001b[0;34m[\u001b[0m\u001b[0;34m'date'\u001b[0m\u001b[0;34m]\u001b[0m\u001b[0;34m.\u001b[0m\u001b[0mdatetime\u001b[0m\u001b[0;34m(\u001b[0m\u001b[0;34m)\u001b[0m\u001b[0;34m\u001b[0m\u001b[0;34m\u001b[0m\u001b[0m\n\u001b[0m",
      "\u001b[0;32m/opt/anaconda3/envs/learn-env/lib/python3.6/site-packages/pandas/core/generic.py\u001b[0m in \u001b[0;36m__getattr__\u001b[0;34m(self, name)\u001b[0m\n\u001b[1;32m   5177\u001b[0m             \u001b[0;32mif\u001b[0m \u001b[0mself\u001b[0m\u001b[0;34m.\u001b[0m\u001b[0m_info_axis\u001b[0m\u001b[0;34m.\u001b[0m\u001b[0m_can_hold_identifiers_and_holds_name\u001b[0m\u001b[0;34m(\u001b[0m\u001b[0mname\u001b[0m\u001b[0;34m)\u001b[0m\u001b[0;34m:\u001b[0m\u001b[0;34m\u001b[0m\u001b[0;34m\u001b[0m\u001b[0m\n\u001b[1;32m   5178\u001b[0m                 \u001b[0;32mreturn\u001b[0m \u001b[0mself\u001b[0m\u001b[0;34m[\u001b[0m\u001b[0mname\u001b[0m\u001b[0;34m]\u001b[0m\u001b[0;34m\u001b[0m\u001b[0;34m\u001b[0m\u001b[0m\n\u001b[0;32m-> 5179\u001b[0;31m             \u001b[0;32mreturn\u001b[0m \u001b[0mobject\u001b[0m\u001b[0;34m.\u001b[0m\u001b[0m__getattribute__\u001b[0m\u001b[0;34m(\u001b[0m\u001b[0mself\u001b[0m\u001b[0;34m,\u001b[0m \u001b[0mname\u001b[0m\u001b[0;34m)\u001b[0m\u001b[0;34m\u001b[0m\u001b[0;34m\u001b[0m\u001b[0m\n\u001b[0m\u001b[1;32m   5180\u001b[0m \u001b[0;34m\u001b[0m\u001b[0m\n\u001b[1;32m   5181\u001b[0m     \u001b[0;32mdef\u001b[0m \u001b[0m__setattr__\u001b[0m\u001b[0;34m(\u001b[0m\u001b[0mself\u001b[0m\u001b[0;34m,\u001b[0m \u001b[0mname\u001b[0m\u001b[0;34m,\u001b[0m \u001b[0mvalue\u001b[0m\u001b[0;34m)\u001b[0m\u001b[0;34m:\u001b[0m\u001b[0;34m\u001b[0m\u001b[0;34m\u001b[0m\u001b[0m\n",
      "\u001b[0;31mAttributeError\u001b[0m: 'Series' object has no attribute 'datetime'"
     ]
    }
   ],
   "source": [
    "# Let's first convert the dates to a Datatime type\n",
    "df['']"
   ]
  },
  {
   "cell_type": "markdown",
   "metadata": {},
   "source": [
    "## EDA"
   ]
  },
  {
   "cell_type": "code",
   "execution_count": 30,
   "metadata": {
    "ExecuteTime": {
     "end_time": "2021-03-13T23:10:36.219766Z",
     "start_time": "2021-03-13T23:10:36.141944Z"
    }
   },
   "outputs": [
    {
     "data": {
      "text/plain": [
       "1955070"
      ]
     },
     "execution_count": 30,
     "metadata": {},
     "output_type": "execute_result"
    }
   ],
   "source": [
    "df['cases'].value_counts().sum()"
   ]
  },
  {
   "cell_type": "code",
   "execution_count": null,
   "metadata": {},
   "outputs": [],
   "source": []
  },
  {
   "cell_type": "code",
   "execution_count": null,
   "metadata": {},
   "outputs": [],
   "source": []
  }
 ],
 "metadata": {
  "kernelspec": {
   "display_name": "Python 3",
   "language": "python",
   "name": "python3"
  },
  "language_info": {
   "codemirror_mode": {
    "name": "ipython",
    "version": 3
   },
   "file_extension": ".py",
   "mimetype": "text/x-python",
   "name": "python",
   "nbconvert_exporter": "python",
   "pygments_lexer": "ipython3",
   "version": "3.6.9"
  },
  "toc": {
   "base_numbering": 1,
   "nav_menu": {},
   "number_sections": true,
   "sideBar": true,
   "skip_h1_title": false,
   "title_cell": "Table of Contents",
   "title_sidebar": "Contents",
   "toc_cell": false,
   "toc_position": {},
   "toc_section_display": true,
   "toc_window_display": false
  }
 },
 "nbformat": 4,
 "nbformat_minor": 4
}
