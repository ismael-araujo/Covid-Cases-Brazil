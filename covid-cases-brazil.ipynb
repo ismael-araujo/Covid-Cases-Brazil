{
 "cells": [
  {
   "cell_type": "code",
   "execution_count": 139,
   "metadata": {
    "ExecuteTime": {
     "end_time": "2021-03-14T00:13:16.541757Z",
     "start_time": "2021-03-14T00:13:16.539370Z"
    }
   },
   "outputs": [],
   "source": [
    "import pyforest"
   ]
  },
  {
   "cell_type": "code",
   "execution_count": 140,
   "metadata": {
    "ExecuteTime": {
     "end_time": "2021-03-14T00:13:18.499069Z",
     "start_time": "2021-03-14T00:13:16.805544Z"
    }
   },
   "outputs": [
    {
     "data": {
      "application/javascript": [
       "\n",
       "        if (window._pyforest_update_imports_cell) { window._pyforest_update_imports_cell('import pandas as pd'); }\n",
       "    "
      ],
      "text/plain": [
       "<IPython.core.display.Javascript object>"
      ]
     },
     "metadata": {},
     "output_type": "display_data"
    }
   ],
   "source": [
    "df = pd.read_csv('data/HIST_PAINEL_COVIDBR_13mar2021.csv')"
   ]
  },
  {
   "cell_type": "code",
   "execution_count": 141,
   "metadata": {
    "ExecuteTime": {
     "end_time": "2021-03-14T00:13:18.521635Z",
     "start_time": "2021-03-14T00:13:18.501771Z"
    }
   },
   "outputs": [
    {
     "data": {
      "text/html": [
       "<div>\n",
       "<style scoped>\n",
       "    .dataframe tbody tr th:only-of-type {\n",
       "        vertical-align: middle;\n",
       "    }\n",
       "\n",
       "    .dataframe tbody tr th {\n",
       "        vertical-align: top;\n",
       "    }\n",
       "\n",
       "    .dataframe thead th {\n",
       "        text-align: right;\n",
       "    }\n",
       "</style>\n",
       "<table border=\"1\" class=\"dataframe\">\n",
       "  <thead>\n",
       "    <tr style=\"text-align: right;\">\n",
       "      <th></th>\n",
       "      <th>regiao</th>\n",
       "      <th>estado</th>\n",
       "      <th>municipio</th>\n",
       "      <th>coduf</th>\n",
       "      <th>codmun</th>\n",
       "      <th>codRegiaoSaude</th>\n",
       "      <th>nomeRegiaoSaude</th>\n",
       "      <th>data</th>\n",
       "      <th>semanaEpi</th>\n",
       "      <th>populacaoTCU2019</th>\n",
       "      <th>casosAcumulado</th>\n",
       "      <th>casosNovos</th>\n",
       "      <th>obitosAcumulado</th>\n",
       "      <th>obitosNovos</th>\n",
       "      <th>Recuperadosnovos</th>\n",
       "      <th>emAcompanhamentoNovos</th>\n",
       "      <th>interior/metropolitana</th>\n",
       "    </tr>\n",
       "  </thead>\n",
       "  <tbody>\n",
       "    <tr>\n",
       "      <th>0</th>\n",
       "      <td>Norte</td>\n",
       "      <td>RO</td>\n",
       "      <td>Alta Floresta D'Oeste</td>\n",
       "      <td>11</td>\n",
       "      <td>110001</td>\n",
       "      <td>11005.0</td>\n",
       "      <td>ZONA DA MATA</td>\n",
       "      <td>3/27/20</td>\n",
       "      <td>13.0</td>\n",
       "      <td>22945.0</td>\n",
       "      <td>0.0</td>\n",
       "      <td>0.0</td>\n",
       "      <td>0.0</td>\n",
       "      <td>0.0</td>\n",
       "      <td>NaN</td>\n",
       "      <td>NaN</td>\n",
       "      <td>0.0</td>\n",
       "    </tr>\n",
       "    <tr>\n",
       "      <th>1</th>\n",
       "      <td>Norte</td>\n",
       "      <td>RO</td>\n",
       "      <td>Alta Floresta D'Oeste</td>\n",
       "      <td>11</td>\n",
       "      <td>110001</td>\n",
       "      <td>11005.0</td>\n",
       "      <td>ZONA DA MATA</td>\n",
       "      <td>3/28/20</td>\n",
       "      <td>13.0</td>\n",
       "      <td>22945.0</td>\n",
       "      <td>0.0</td>\n",
       "      <td>0.0</td>\n",
       "      <td>0.0</td>\n",
       "      <td>0.0</td>\n",
       "      <td>NaN</td>\n",
       "      <td>NaN</td>\n",
       "      <td>0.0</td>\n",
       "    </tr>\n",
       "    <tr>\n",
       "      <th>2</th>\n",
       "      <td>Norte</td>\n",
       "      <td>RO</td>\n",
       "      <td>Alta Floresta D'Oeste</td>\n",
       "      <td>11</td>\n",
       "      <td>110001</td>\n",
       "      <td>11005.0</td>\n",
       "      <td>ZONA DA MATA</td>\n",
       "      <td>3/29/20</td>\n",
       "      <td>14.0</td>\n",
       "      <td>22945.0</td>\n",
       "      <td>0.0</td>\n",
       "      <td>0.0</td>\n",
       "      <td>0.0</td>\n",
       "      <td>0.0</td>\n",
       "      <td>NaN</td>\n",
       "      <td>NaN</td>\n",
       "      <td>0.0</td>\n",
       "    </tr>\n",
       "    <tr>\n",
       "      <th>3</th>\n",
       "      <td>Norte</td>\n",
       "      <td>RO</td>\n",
       "      <td>Alta Floresta D'Oeste</td>\n",
       "      <td>11</td>\n",
       "      <td>110001</td>\n",
       "      <td>11005.0</td>\n",
       "      <td>ZONA DA MATA</td>\n",
       "      <td>3/30/20</td>\n",
       "      <td>14.0</td>\n",
       "      <td>22945.0</td>\n",
       "      <td>0.0</td>\n",
       "      <td>0.0</td>\n",
       "      <td>0.0</td>\n",
       "      <td>0.0</td>\n",
       "      <td>NaN</td>\n",
       "      <td>NaN</td>\n",
       "      <td>0.0</td>\n",
       "    </tr>\n",
       "    <tr>\n",
       "      <th>4</th>\n",
       "      <td>Norte</td>\n",
       "      <td>RO</td>\n",
       "      <td>Alta Floresta D'Oeste</td>\n",
       "      <td>11</td>\n",
       "      <td>110001</td>\n",
       "      <td>11005.0</td>\n",
       "      <td>ZONA DA MATA</td>\n",
       "      <td>3/31/20</td>\n",
       "      <td>14.0</td>\n",
       "      <td>22945.0</td>\n",
       "      <td>0.0</td>\n",
       "      <td>0.0</td>\n",
       "      <td>0.0</td>\n",
       "      <td>0.0</td>\n",
       "      <td>NaN</td>\n",
       "      <td>NaN</td>\n",
       "      <td>0.0</td>\n",
       "    </tr>\n",
       "  </tbody>\n",
       "</table>\n",
       "</div>"
      ],
      "text/plain": [
       "  regiao estado              municipio  coduf  codmun  codRegiaoSaude  \\\n",
       "0  Norte     RO  Alta Floresta D'Oeste     11  110001         11005.0   \n",
       "1  Norte     RO  Alta Floresta D'Oeste     11  110001         11005.0   \n",
       "2  Norte     RO  Alta Floresta D'Oeste     11  110001         11005.0   \n",
       "3  Norte     RO  Alta Floresta D'Oeste     11  110001         11005.0   \n",
       "4  Norte     RO  Alta Floresta D'Oeste     11  110001         11005.0   \n",
       "\n",
       "  nomeRegiaoSaude     data  semanaEpi  populacaoTCU2019  casosAcumulado  \\\n",
       "0    ZONA DA MATA  3/27/20       13.0           22945.0             0.0   \n",
       "1    ZONA DA MATA  3/28/20       13.0           22945.0             0.0   \n",
       "2    ZONA DA MATA  3/29/20       14.0           22945.0             0.0   \n",
       "3    ZONA DA MATA  3/30/20       14.0           22945.0             0.0   \n",
       "4    ZONA DA MATA  3/31/20       14.0           22945.0             0.0   \n",
       "\n",
       "   casosNovos  obitosAcumulado  obitosNovos  Recuperadosnovos  \\\n",
       "0         0.0              0.0          0.0               NaN   \n",
       "1         0.0              0.0          0.0               NaN   \n",
       "2         0.0              0.0          0.0               NaN   \n",
       "3         0.0              0.0          0.0               NaN   \n",
       "4         0.0              0.0          0.0               NaN   \n",
       "\n",
       "   emAcompanhamentoNovos  interior/metropolitana  \n",
       "0                    NaN                     0.0  \n",
       "1                    NaN                     0.0  \n",
       "2                    NaN                     0.0  \n",
       "3                    NaN                     0.0  \n",
       "4                    NaN                     0.0  "
      ]
     },
     "execution_count": 141,
     "metadata": {},
     "output_type": "execute_result"
    }
   ],
   "source": [
    "df.head()"
   ]
  },
  {
   "cell_type": "code",
   "execution_count": 142,
   "metadata": {
    "ExecuteTime": {
     "end_time": "2021-03-14T00:13:18.805073Z",
     "start_time": "2021-03-14T00:13:18.524459Z"
    }
   },
   "outputs": [
    {
     "name": "stdout",
     "output_type": "stream",
     "text": [
      "<class 'pandas.core.frame.DataFrame'>\n",
      "RangeIndex: 1037497 entries, 0 to 1037496\n",
      "Data columns (total 17 columns):\n",
      "regiao                    1037497 non-null object\n",
      "estado                    1037497 non-null object\n",
      "municipio                 1033273 non-null object\n",
      "coduf                     1037497 non-null int64\n",
      "codmun                    1037497 non-null int64\n",
      "codRegiaoSaude            1033273 non-null float64\n",
      "nomeRegiaoSaude           1033273 non-null object\n",
      "data                      1033273 non-null object\n",
      "semanaEpi                 1033273 non-null float64\n",
      "populacaoTCU2019          1029049 non-null float64\n",
      "casosAcumulado            1033273 non-null float64\n",
      "casosNovos                1033273 non-null float64\n",
      "obitosAcumulado           1033273 non-null float64\n",
      "obitosNovos               1033273 non-null float64\n",
      "Recuperadosnovos          0 non-null float64\n",
      "emAcompanhamentoNovos     0 non-null float64\n",
      "interior/metropolitana    1029049 non-null float64\n",
      "dtypes: float64(10), int64(2), object(5)\n",
      "memory usage: 134.6+ MB\n"
     ]
    }
   ],
   "source": [
    "df.info()"
   ]
  },
  {
   "cell_type": "code",
   "execution_count": 143,
   "metadata": {
    "ExecuteTime": {
     "end_time": "2021-03-14T00:13:19.046085Z",
     "start_time": "2021-03-14T00:13:18.808773Z"
    }
   },
   "outputs": [
    {
     "data": {
      "text/plain": [
       "regiao                          0\n",
       "estado                          0\n",
       "municipio                    4224\n",
       "coduf                           0\n",
       "codmun                          0\n",
       "codRegiaoSaude               4224\n",
       "nomeRegiaoSaude              4224\n",
       "data                         4224\n",
       "semanaEpi                    4224\n",
       "populacaoTCU2019             8448\n",
       "casosAcumulado               4224\n",
       "casosNovos                   4224\n",
       "obitosAcumulado              4224\n",
       "obitosNovos                  4224\n",
       "Recuperadosnovos          1037497\n",
       "emAcompanhamentoNovos     1037497\n",
       "interior/metropolitana       8448\n",
       "dtype: int64"
      ]
     },
     "execution_count": 143,
     "metadata": {},
     "output_type": "execute_result"
    }
   ],
   "source": [
    "df.isna().sum()"
   ]
  },
  {
   "cell_type": "code",
   "execution_count": 144,
   "metadata": {
    "ExecuteTime": {
     "end_time": "2021-03-14T00:13:19.109423Z",
     "start_time": "2021-03-14T00:13:19.049065Z"
    }
   },
   "outputs": [],
   "source": [
    "df.municipio.dropna(inplace=True)"
   ]
  },
  {
   "cell_type": "code",
   "execution_count": 145,
   "metadata": {
    "ExecuteTime": {
     "end_time": "2021-03-14T00:13:19.379570Z",
     "start_time": "2021-03-14T00:13:19.111414Z"
    },
    "scrolled": true
   },
   "outputs": [
    {
     "data": {
      "text/plain": [
       "regiao                          0\n",
       "estado                          0\n",
       "municipio                    4224\n",
       "coduf                           0\n",
       "codmun                          0\n",
       "codRegiaoSaude               4224\n",
       "nomeRegiaoSaude              4224\n",
       "data                         4224\n",
       "semanaEpi                    4224\n",
       "populacaoTCU2019             8448\n",
       "casosAcumulado               4224\n",
       "casosNovos                   4224\n",
       "obitosAcumulado              4224\n",
       "obitosNovos                  4224\n",
       "Recuperadosnovos          1037497\n",
       "emAcompanhamentoNovos     1037497\n",
       "interior/metropolitana       8448\n",
       "dtype: int64"
      ]
     },
     "execution_count": 145,
     "metadata": {},
     "output_type": "execute_result"
    }
   ],
   "source": [
    "df.isna().sum()"
   ]
  },
  {
   "cell_type": "code",
   "execution_count": 146,
   "metadata": {
    "ExecuteTime": {
     "end_time": "2021-03-14T00:13:19.395453Z",
     "start_time": "2021-03-14T00:13:19.384271Z"
    },
    "scrolled": false
   },
   "outputs": [
    {
     "data": {
      "text/plain": [
       "Index(['regiao', 'estado', 'municipio', 'coduf', 'codmun', 'codRegiaoSaude',\n",
       "       'nomeRegiaoSaude', 'data', 'semanaEpi', 'populacaoTCU2019',\n",
       "       'casosAcumulado', 'casosNovos', 'obitosAcumulado', 'obitosNovos',\n",
       "       'Recuperadosnovos', 'emAcompanhamentoNovos', 'interior/metropolitana'],\n",
       "      dtype='object')"
      ]
     },
     "execution_count": 146,
     "metadata": {},
     "output_type": "execute_result"
    }
   ],
   "source": [
    "df.columns"
   ]
  },
  {
   "cell_type": "code",
   "execution_count": 147,
   "metadata": {
    "ExecuteTime": {
     "end_time": "2021-03-14T00:13:19.539411Z",
     "start_time": "2021-03-14T00:13:19.405865Z"
    }
   },
   "outputs": [],
   "source": [
    "df.drop(columns=['coduf', 'codmun', 'codRegiaoSaude','nomeRegiaoSaude', 'semanaEpi', 'emAcompanhamentoNovos'], inplace=True)"
   ]
  },
  {
   "cell_type": "code",
   "execution_count": 148,
   "metadata": {
    "ExecuteTime": {
     "end_time": "2021-03-14T00:13:19.548180Z",
     "start_time": "2021-03-14T00:13:19.542672Z"
    }
   },
   "outputs": [
    {
     "data": {
      "text/plain": [
       "Index(['regiao', 'estado', 'municipio', 'data', 'populacaoTCU2019',\n",
       "       'casosAcumulado', 'casosNovos', 'obitosAcumulado', 'obitosNovos',\n",
       "       'Recuperadosnovos', 'interior/metropolitana'],\n",
       "      dtype='object')"
      ]
     },
     "execution_count": 148,
     "metadata": {},
     "output_type": "execute_result"
    }
   ],
   "source": [
    "df.columns"
   ]
  },
  {
   "cell_type": "code",
   "execution_count": 149,
   "metadata": {
    "ExecuteTime": {
     "end_time": "2021-03-14T00:13:19.554862Z",
     "start_time": "2021-03-14T00:13:19.550754Z"
    }
   },
   "outputs": [],
   "source": [
    "df.columns = ['region', 'state', 'city', 'date', 'population',\n",
    "       'total_cases', 'new_cases', 'total_death', 'new_death',\n",
    "       'new_recovered',  'country/urban']"
   ]
  },
  {
   "cell_type": "code",
   "execution_count": 150,
   "metadata": {
    "ExecuteTime": {
     "end_time": "2021-03-14T00:13:19.576486Z",
     "start_time": "2021-03-14T00:13:19.557610Z"
    }
   },
   "outputs": [
    {
     "data": {
      "text/html": [
       "<div>\n",
       "<style scoped>\n",
       "    .dataframe tbody tr th:only-of-type {\n",
       "        vertical-align: middle;\n",
       "    }\n",
       "\n",
       "    .dataframe tbody tr th {\n",
       "        vertical-align: top;\n",
       "    }\n",
       "\n",
       "    .dataframe thead th {\n",
       "        text-align: right;\n",
       "    }\n",
       "</style>\n",
       "<table border=\"1\" class=\"dataframe\">\n",
       "  <thead>\n",
       "    <tr style=\"text-align: right;\">\n",
       "      <th></th>\n",
       "      <th>region</th>\n",
       "      <th>state</th>\n",
       "      <th>city</th>\n",
       "      <th>date</th>\n",
       "      <th>population</th>\n",
       "      <th>total_cases</th>\n",
       "      <th>new_cases</th>\n",
       "      <th>total_death</th>\n",
       "      <th>new_death</th>\n",
       "      <th>new_recovered</th>\n",
       "      <th>country/urban</th>\n",
       "    </tr>\n",
       "  </thead>\n",
       "  <tbody>\n",
       "    <tr>\n",
       "      <th>0</th>\n",
       "      <td>Norte</td>\n",
       "      <td>RO</td>\n",
       "      <td>Alta Floresta D'Oeste</td>\n",
       "      <td>3/27/20</td>\n",
       "      <td>22945.0</td>\n",
       "      <td>0.0</td>\n",
       "      <td>0.0</td>\n",
       "      <td>0.0</td>\n",
       "      <td>0.0</td>\n",
       "      <td>NaN</td>\n",
       "      <td>0.0</td>\n",
       "    </tr>\n",
       "    <tr>\n",
       "      <th>1</th>\n",
       "      <td>Norte</td>\n",
       "      <td>RO</td>\n",
       "      <td>Alta Floresta D'Oeste</td>\n",
       "      <td>3/28/20</td>\n",
       "      <td>22945.0</td>\n",
       "      <td>0.0</td>\n",
       "      <td>0.0</td>\n",
       "      <td>0.0</td>\n",
       "      <td>0.0</td>\n",
       "      <td>NaN</td>\n",
       "      <td>0.0</td>\n",
       "    </tr>\n",
       "    <tr>\n",
       "      <th>2</th>\n",
       "      <td>Norte</td>\n",
       "      <td>RO</td>\n",
       "      <td>Alta Floresta D'Oeste</td>\n",
       "      <td>3/29/20</td>\n",
       "      <td>22945.0</td>\n",
       "      <td>0.0</td>\n",
       "      <td>0.0</td>\n",
       "      <td>0.0</td>\n",
       "      <td>0.0</td>\n",
       "      <td>NaN</td>\n",
       "      <td>0.0</td>\n",
       "    </tr>\n",
       "    <tr>\n",
       "      <th>3</th>\n",
       "      <td>Norte</td>\n",
       "      <td>RO</td>\n",
       "      <td>Alta Floresta D'Oeste</td>\n",
       "      <td>3/30/20</td>\n",
       "      <td>22945.0</td>\n",
       "      <td>0.0</td>\n",
       "      <td>0.0</td>\n",
       "      <td>0.0</td>\n",
       "      <td>0.0</td>\n",
       "      <td>NaN</td>\n",
       "      <td>0.0</td>\n",
       "    </tr>\n",
       "    <tr>\n",
       "      <th>4</th>\n",
       "      <td>Norte</td>\n",
       "      <td>RO</td>\n",
       "      <td>Alta Floresta D'Oeste</td>\n",
       "      <td>3/31/20</td>\n",
       "      <td>22945.0</td>\n",
       "      <td>0.0</td>\n",
       "      <td>0.0</td>\n",
       "      <td>0.0</td>\n",
       "      <td>0.0</td>\n",
       "      <td>NaN</td>\n",
       "      <td>0.0</td>\n",
       "    </tr>\n",
       "  </tbody>\n",
       "</table>\n",
       "</div>"
      ],
      "text/plain": [
       "  region state                   city     date  population  total_cases  \\\n",
       "0  Norte    RO  Alta Floresta D'Oeste  3/27/20     22945.0          0.0   \n",
       "1  Norte    RO  Alta Floresta D'Oeste  3/28/20     22945.0          0.0   \n",
       "2  Norte    RO  Alta Floresta D'Oeste  3/29/20     22945.0          0.0   \n",
       "3  Norte    RO  Alta Floresta D'Oeste  3/30/20     22945.0          0.0   \n",
       "4  Norte    RO  Alta Floresta D'Oeste  3/31/20     22945.0          0.0   \n",
       "\n",
       "   new_cases  total_death  new_death  new_recovered  country/urban  \n",
       "0        0.0          0.0        0.0            NaN            0.0  \n",
       "1        0.0          0.0        0.0            NaN            0.0  \n",
       "2        0.0          0.0        0.0            NaN            0.0  \n",
       "3        0.0          0.0        0.0            NaN            0.0  \n",
       "4        0.0          0.0        0.0            NaN            0.0  "
      ]
     },
     "execution_count": 150,
     "metadata": {},
     "output_type": "execute_result"
    }
   ],
   "source": [
    "df.head()"
   ]
  },
  {
   "cell_type": "code",
   "execution_count": 151,
   "metadata": {
    "ExecuteTime": {
     "end_time": "2021-03-14T00:13:19.633952Z",
     "start_time": "2021-03-14T00:13:19.579010Z"
    }
   },
   "outputs": [],
   "source": [
    "df.city.dropna(inplace=True)"
   ]
  },
  {
   "cell_type": "code",
   "execution_count": 152,
   "metadata": {
    "ExecuteTime": {
     "end_time": "2021-03-14T00:13:19.988570Z",
     "start_time": "2021-03-14T00:13:19.967866Z"
    }
   },
   "outputs": [
    {
     "data": {
      "text/html": [
       "<div>\n",
       "<style scoped>\n",
       "    .dataframe tbody tr th:only-of-type {\n",
       "        vertical-align: middle;\n",
       "    }\n",
       "\n",
       "    .dataframe tbody tr th {\n",
       "        vertical-align: top;\n",
       "    }\n",
       "\n",
       "    .dataframe thead th {\n",
       "        text-align: right;\n",
       "    }\n",
       "</style>\n",
       "<table border=\"1\" class=\"dataframe\">\n",
       "  <thead>\n",
       "    <tr style=\"text-align: right;\">\n",
       "      <th></th>\n",
       "      <th>region</th>\n",
       "      <th>state</th>\n",
       "      <th>city</th>\n",
       "      <th>date</th>\n",
       "      <th>population</th>\n",
       "      <th>total_cases</th>\n",
       "      <th>new_cases</th>\n",
       "      <th>total_death</th>\n",
       "      <th>new_death</th>\n",
       "      <th>new_recovered</th>\n",
       "      <th>country/urban</th>\n",
       "    </tr>\n",
       "  </thead>\n",
       "  <tbody>\n",
       "    <tr>\n",
       "      <th>0</th>\n",
       "      <td>Norte</td>\n",
       "      <td>RO</td>\n",
       "      <td>Alta Floresta D'Oeste</td>\n",
       "      <td>3/27/20</td>\n",
       "      <td>22945.0</td>\n",
       "      <td>0.0</td>\n",
       "      <td>0.0</td>\n",
       "      <td>0.0</td>\n",
       "      <td>0.0</td>\n",
       "      <td>NaN</td>\n",
       "      <td>0.0</td>\n",
       "    </tr>\n",
       "    <tr>\n",
       "      <th>1</th>\n",
       "      <td>Norte</td>\n",
       "      <td>RO</td>\n",
       "      <td>Alta Floresta D'Oeste</td>\n",
       "      <td>3/28/20</td>\n",
       "      <td>22945.0</td>\n",
       "      <td>0.0</td>\n",
       "      <td>0.0</td>\n",
       "      <td>0.0</td>\n",
       "      <td>0.0</td>\n",
       "      <td>NaN</td>\n",
       "      <td>0.0</td>\n",
       "    </tr>\n",
       "    <tr>\n",
       "      <th>2</th>\n",
       "      <td>Norte</td>\n",
       "      <td>RO</td>\n",
       "      <td>Alta Floresta D'Oeste</td>\n",
       "      <td>3/29/20</td>\n",
       "      <td>22945.0</td>\n",
       "      <td>0.0</td>\n",
       "      <td>0.0</td>\n",
       "      <td>0.0</td>\n",
       "      <td>0.0</td>\n",
       "      <td>NaN</td>\n",
       "      <td>0.0</td>\n",
       "    </tr>\n",
       "    <tr>\n",
       "      <th>3</th>\n",
       "      <td>Norte</td>\n",
       "      <td>RO</td>\n",
       "      <td>Alta Floresta D'Oeste</td>\n",
       "      <td>3/30/20</td>\n",
       "      <td>22945.0</td>\n",
       "      <td>0.0</td>\n",
       "      <td>0.0</td>\n",
       "      <td>0.0</td>\n",
       "      <td>0.0</td>\n",
       "      <td>NaN</td>\n",
       "      <td>0.0</td>\n",
       "    </tr>\n",
       "    <tr>\n",
       "      <th>4</th>\n",
       "      <td>Norte</td>\n",
       "      <td>RO</td>\n",
       "      <td>Alta Floresta D'Oeste</td>\n",
       "      <td>3/31/20</td>\n",
       "      <td>22945.0</td>\n",
       "      <td>0.0</td>\n",
       "      <td>0.0</td>\n",
       "      <td>0.0</td>\n",
       "      <td>0.0</td>\n",
       "      <td>NaN</td>\n",
       "      <td>0.0</td>\n",
       "    </tr>\n",
       "    <tr>\n",
       "      <th>...</th>\n",
       "      <td>...</td>\n",
       "      <td>...</td>\n",
       "      <td>...</td>\n",
       "      <td>...</td>\n",
       "      <td>...</td>\n",
       "      <td>...</td>\n",
       "      <td>...</td>\n",
       "      <td>...</td>\n",
       "      <td>...</td>\n",
       "      <td>...</td>\n",
       "      <td>...</td>\n",
       "    </tr>\n",
       "    <tr>\n",
       "      <th>1037492</th>\n",
       "      <td>Sudeste</td>\n",
       "      <td>MG</td>\n",
       "      <td>Santa Rita de Minas</td>\n",
       "      <td>8/22/20</td>\n",
       "      <td>7212.0</td>\n",
       "      <td>106.0</td>\n",
       "      <td>0.0</td>\n",
       "      <td>2.0</td>\n",
       "      <td>0.0</td>\n",
       "      <td>NaN</td>\n",
       "      <td>0.0</td>\n",
       "    </tr>\n",
       "    <tr>\n",
       "      <th>1037493</th>\n",
       "      <td>Sudeste</td>\n",
       "      <td>MG</td>\n",
       "      <td>Santa Rita de Minas</td>\n",
       "      <td>8/23/20</td>\n",
       "      <td>7212.0</td>\n",
       "      <td>106.0</td>\n",
       "      <td>0.0</td>\n",
       "      <td>2.0</td>\n",
       "      <td>0.0</td>\n",
       "      <td>NaN</td>\n",
       "      <td>0.0</td>\n",
       "    </tr>\n",
       "    <tr>\n",
       "      <th>1037494</th>\n",
       "      <td>Sudeste</td>\n",
       "      <td>MG</td>\n",
       "      <td>Santa Rita de Minas</td>\n",
       "      <td>8/24/20</td>\n",
       "      <td>7212.0</td>\n",
       "      <td>106.0</td>\n",
       "      <td>0.0</td>\n",
       "      <td>2.0</td>\n",
       "      <td>0.0</td>\n",
       "      <td>NaN</td>\n",
       "      <td>0.0</td>\n",
       "    </tr>\n",
       "    <tr>\n",
       "      <th>1037495</th>\n",
       "      <td>Sudeste</td>\n",
       "      <td>MG</td>\n",
       "      <td>Santa Rita de Minas</td>\n",
       "      <td>8/25/20</td>\n",
       "      <td>7212.0</td>\n",
       "      <td>111.0</td>\n",
       "      <td>5.0</td>\n",
       "      <td>2.0</td>\n",
       "      <td>0.0</td>\n",
       "      <td>NaN</td>\n",
       "      <td>0.0</td>\n",
       "    </tr>\n",
       "    <tr>\n",
       "      <th>1037496</th>\n",
       "      <td>Sudeste</td>\n",
       "      <td>MG</td>\n",
       "      <td>Santa Rita de Minas</td>\n",
       "      <td>8/26/20</td>\n",
       "      <td>7212.0</td>\n",
       "      <td>111.0</td>\n",
       "      <td>0.0</td>\n",
       "      <td>2.0</td>\n",
       "      <td>0.0</td>\n",
       "      <td>NaN</td>\n",
       "      <td>0.0</td>\n",
       "    </tr>\n",
       "  </tbody>\n",
       "</table>\n",
       "<p>1037497 rows × 11 columns</p>\n",
       "</div>"
      ],
      "text/plain": [
       "          region state                   city     date  population  \\\n",
       "0          Norte    RO  Alta Floresta D'Oeste  3/27/20     22945.0   \n",
       "1          Norte    RO  Alta Floresta D'Oeste  3/28/20     22945.0   \n",
       "2          Norte    RO  Alta Floresta D'Oeste  3/29/20     22945.0   \n",
       "3          Norte    RO  Alta Floresta D'Oeste  3/30/20     22945.0   \n",
       "4          Norte    RO  Alta Floresta D'Oeste  3/31/20     22945.0   \n",
       "...          ...   ...                    ...      ...         ...   \n",
       "1037492  Sudeste    MG    Santa Rita de Minas  8/22/20      7212.0   \n",
       "1037493  Sudeste    MG    Santa Rita de Minas  8/23/20      7212.0   \n",
       "1037494  Sudeste    MG    Santa Rita de Minas  8/24/20      7212.0   \n",
       "1037495  Sudeste    MG    Santa Rita de Minas  8/25/20      7212.0   \n",
       "1037496  Sudeste    MG    Santa Rita de Minas  8/26/20      7212.0   \n",
       "\n",
       "         total_cases  new_cases  total_death  new_death  new_recovered  \\\n",
       "0                0.0        0.0          0.0        0.0            NaN   \n",
       "1                0.0        0.0          0.0        0.0            NaN   \n",
       "2                0.0        0.0          0.0        0.0            NaN   \n",
       "3                0.0        0.0          0.0        0.0            NaN   \n",
       "4                0.0        0.0          0.0        0.0            NaN   \n",
       "...              ...        ...          ...        ...            ...   \n",
       "1037492        106.0        0.0          2.0        0.0            NaN   \n",
       "1037493        106.0        0.0          2.0        0.0            NaN   \n",
       "1037494        106.0        0.0          2.0        0.0            NaN   \n",
       "1037495        111.0        5.0          2.0        0.0            NaN   \n",
       "1037496        111.0        0.0          2.0        0.0            NaN   \n",
       "\n",
       "         country/urban  \n",
       "0                  0.0  \n",
       "1                  0.0  \n",
       "2                  0.0  \n",
       "3                  0.0  \n",
       "4                  0.0  \n",
       "...                ...  \n",
       "1037492            0.0  \n",
       "1037493            0.0  \n",
       "1037494            0.0  \n",
       "1037495            0.0  \n",
       "1037496            0.0  \n",
       "\n",
       "[1037497 rows x 11 columns]"
      ]
     },
     "execution_count": 152,
     "metadata": {},
     "output_type": "execute_result"
    }
   ],
   "source": [
    "df"
   ]
  },
  {
   "cell_type": "code",
   "execution_count": 155,
   "metadata": {
    "ExecuteTime": {
     "end_time": "2021-03-14T00:15:44.677338Z",
     "start_time": "2021-03-14T00:15:44.228592Z"
    }
   },
   "outputs": [
    {
     "data": {
      "application/javascript": [
       "\n",
       "        if (window._pyforest_update_imports_cell) { window._pyforest_update_imports_cell('import pandas as pd\\nimport matplotlib.pyplot as plt'); }\n",
       "    "
      ],
      "text/plain": [
       "<IPython.core.display.Javascript object>"
      ]
     },
     "metadata": {},
     "output_type": "display_data"
    },
    {
     "data": {
      "text/plain": [
       "<BarContainer object of 1 artists>"
      ]
     },
     "execution_count": 155,
     "metadata": {},
     "output_type": "execute_result"
    },
    {
     "data": {
      "image/png": "[encoded data removed]",
      "text/plain": [
       "<Figure size 432x288 with 1 Axes>"
      ]
     },
     "metadata": {
      "needs_background": "light"
     },
     "output_type": "display_data"
    }
   ],
   "source": [
    "plt.bar(x='state', height='total_cases')"
   ]
  },
  {
   "cell_type": "code",
   "execution_count": null,
   "metadata": {},
   "outputs": [],
   "source": []
  },
  {
   "cell_type": "code",
   "execution_count": null,
   "metadata": {},
   "outputs": [],
   "source": []
  },
  {
   "cell_type": "code",
   "execution_count": null,
   "metadata": {},
   "outputs": [],
   "source": []
  },
  {
   "cell_type": "code",
   "execution_count": null,
   "metadata": {},
   "outputs": [],
   "source": []
  },
  {
   "cell_type": "code",
   "execution_count": null,
   "metadata": {},
   "outputs": [],
   "source": []
  },
  {
   "cell_type": "code",
   "execution_count": null,
   "metadata": {},
   "outputs": [],
   "source": []
  },
  {
   "cell_type": "code",
   "execution_count": null,
   "metadata": {},
   "outputs": [],
   "source": []
  },
  {
   "cell_type": "code",
   "execution_count": null,
   "metadata": {},
   "outputs": [],
   "source": []
  },
  {
   "cell_type": "code",
   "execution_count": null,
   "metadata": {},
   "outputs": [],
   "source": []
  }
 ],
 "metadata": {
  "kernelspec": {
   "display_name": "Python 3",
   "language": "python",
   "name": "python3"
  },
  "language_info": {
   "codemirror_mode": {
    "name": "ipython",
    "version": 3
   },
   "file_extension": ".py",
   "mimetype": "text/x-python",
   "name": "python",
   "nbconvert_exporter": "python",
   "pygments_lexer": "ipython3",
   "version": "3.6.9"
  },
  "toc": {
   "base_numbering": 1,
   "nav_menu": {},
   "number_sections": true,
   "sideBar": true,
   "skip_h1_title": false,
   "title_cell": "Table of Contents",
   "title_sidebar": "Contents",
   "toc_cell": false,
   "toc_position": {},
   "toc_section_display": true,
   "toc_window_display": false
  }
 },
 "nbformat": 4,
 "nbformat_minor": 4
}
